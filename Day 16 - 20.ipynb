{
 "metadata": {
  "language_info": {
   "codemirror_mode": {
    "name": "ipython",
    "version": 3
   },
   "file_extension": ".py",
   "mimetype": "text/x-python",
   "name": "python",
   "nbconvert_exporter": "python",
   "pygments_lexer": "ipython3",
   "version": "3.8.3-final"
  },
  "orig_nbformat": 2,
  "kernelspec": {
   "name": "python3",
   "display_name": "Python 3",
   "language": "python"
  }
 },
 "nbformat": 4,
 "nbformat_minor": 2,
 "cells": [
  {
   "source": [
    "# Common imports & library functions"
   ],
   "cell_type": "markdown",
   "metadata": {}
  },
  {
   "cell_type": "code",
   "execution_count": 11,
   "metadata": {},
   "outputs": [],
   "source": [
    "import collections\n",
    "from collections import defaultdict, Counter\n",
    "from dataclasses import dataclass\n",
    "import doctest\n",
    "import functools\n",
    "import itertools\n",
    "from itertools import count\n",
    "import math\n",
    "import re\n",
    "from copy import deepcopy\n",
    "from utils import product\n",
    "from enum import Enum"
   ]
  },
  {
   "source": [
    "# Day 16: Ticket Translation"
   ],
   "cell_type": "markdown",
   "metadata": {}
  },
  {
   "cell_type": "code",
   "execution_count": 44,
   "metadata": {},
   "outputs": [],
   "source": [
    "def parse_ticket(line):\n",
    "    \"\"\"\n",
    "    >>> parse_ticket('1,5,99')\n",
    "    [1, 5, 99]\n",
    "    \"\"\"\n",
    "    return [int(i) for i in line.strip().split(',')]\n",
    "\n",
    "def parse_ranges(line):\n",
    "    \"\"\"\n",
    "    >>> name, values = parse_ranges('class: 50-55 or 587-590')\n",
    "    >>> name\n",
    "    'class'\n",
    "    >>> list(sorted(values))\n",
    "    [50, 51, 52, 53, 54, 55, 587, 588, 589, 590]\n",
    "    \"\"\"\n",
    "    name, ranges = line.split(': ')\n",
    "    ranges = ranges.split(' or ')\n",
    "    values = set()\n",
    "    for lo_hi in ranges:\n",
    "        lo, hi = lo_hi.split('-')\n",
    "        values.update(range(int(lo), int(hi) + 1))\n",
    "    return name, values\n",
    "\n",
    "def parse_input(input):\n",
    "    valid_ranges = {}\n",
    "    your_ticket = None\n",
    "    other_tickets = []\n",
    "    for line in input:\n",
    "        line = line.strip()\n",
    "        if ': ' in line:\n",
    "            name, values = parse_ranges(line)\n",
    "            valid_ranges[name] = values\n",
    "        elif ',' in line:\n",
    "            ticket = parse_ticket(line)\n",
    "            if your_ticket is None:\n",
    "                your_ticket = ticket\n",
    "            else:\n",
    "                other_tickets.append(ticket)\n",
    "    return valid_ranges, your_ticket, other_tickets\n",
    "\n",
    "def invalid_ticket_values(valid_ranges, tickets):\n",
    "    valid_values = functools.reduce(set.union, valid_ranges.values(), set())\n",
    "    for ticket_value in itertools.chain(*tickets):\n",
    "        if ticket_value not in valid_values:\n",
    "            yield ticket_value"
   ]
  },
  {
   "cell_type": "code",
   "execution_count": 45,
   "metadata": {},
   "outputs": [
    {
     "output_type": "stream",
     "name": "stdout",
     "text": [
      "Finding tests in NoName\nTrying:\n    parse_ticket('1,5,99')\nExpecting:\n    [1, 5, 99]\nok\nFinding tests in NoName\nTrying:\n    name, values = parse_ranges('class: 50-55 or 587-590')\nExpecting nothing\nok\nTrying:\n    name\nExpecting:\n    'class'\nok\nTrying:\n    list(sorted(values))\nExpecting:\n    [50, 51, 52, 53, 54, 55, 587, 588, 589, 590]\nok\n"
     ]
    }
   ],
   "source": [
    "doctest.run_docstring_examples(parse_ticket, globs=None, verbose=True)\r\n",
    "doctest.run_docstring_examples(parse_ranges, globs=None, verbose=True)"
   ]
  },
  {
   "cell_type": "code",
   "execution_count": 46,
   "metadata": {},
   "outputs": [],
   "source": [
    "notes = \"\"\"\n",
    "    class: 1-3 or 5-7\n",
    "    row: 6-11 or 33-44\n",
    "    seat: 13-40 or 45-50\n",
    "\n",
    "    your ticket:\n",
    "    7,1,14\n",
    "\n",
    "    nearby tickets:\n",
    "    7,3,47\n",
    "    40,4,50\n",
    "    55,2,20\n",
    "    38,6,12\n",
    "\"\"\".splitlines()\n",
    "\n",
    "valid_ranges, your_ticket, other_tickets = parse_input(notes)\n",
    "assert sum(invalid_ticket_values(valid_ranges, other_tickets)) == 71"
   ]
  },
  {
   "cell_type": "code",
   "execution_count": 85,
   "metadata": {},
   "outputs": [],
   "source": [
    "def valid_tickets(valid_ranges, tickets):\n",
    "    valid_values = functools.reduce(set.union, valid_ranges.values(), set())\n",
    "    for ticket in tickets:\n",
    "        if all(v in valid_values for v in ticket):\n",
    "            yield ticket\n",
    "\n",
    "def guess_field(valid_ranges, values):\n",
    "    for name, valid in valid_ranges.items():\n",
    "        if all(v in valid for v in values):\n",
    "            yield name\n",
    "\n",
    "def first(s):\n",
    "    return list(s)[0]\n",
    "\n",
    "def guess_fields(valid_ranges, your_ticket, other_tickets):\n",
    "    # Step 1: Come up with possible guesses based on which fields' valid ranges are\n",
    "    # compatible with the values encountered in tickets.\n",
    "    guesses = []\n",
    "    tickets = valid_tickets(valid_ranges, other_tickets + [your_ticket])\n",
    "    for values in zip(*tickets):\n",
    "        guesses.append(set(guess_field(valid_ranges, values)))\n",
    "\n",
    "    # Step 2: Prune guesses until there's only one choice for each field, or a contradiction \n",
    "    # is hit (an empty set is left).\n",
    "    while True:\n",
    "        updated = False\n",
    "        \n",
    "        for field_i, choices_i in enumerate(guesses):\n",
    "            if len(choices_i) == 0:\n",
    "                raise Exception(f'No guesses remaining for field {field_i}')\n",
    "            elif len(choices_i) == 1:\n",
    "                guess = first(choices_i)\n",
    "                for field_j, choices_j in enumerate(guesses):\n",
    "                    if field_i == field_j:\n",
    "                        continue\n",
    "                    elif guess in choices_j:\n",
    "                        choices_j.remove(guess)\n",
    "                        updated = True\n",
    "            \n",
    "        if not updated:\n",
    "            return [first(choices) for choices in guesses]\n"
   ]
  },
  {
   "cell_type": "code",
   "execution_count": 89,
   "metadata": {},
   "outputs": [],
   "source": [
    "notes = \"\"\"\n",
    "    class: 0-1 or 4-19\n",
    "    row: 0-5 or 8-19\n",
    "    seat: 0-13 or 16-19\n",
    "\n",
    "    your ticket:\n",
    "    11,12,13\n",
    "\n",
    "    nearby tickets:\n",
    "    3,9,18\n",
    "    15,1,5\n",
    "    5,14,9\n",
    "\"\"\".splitlines()\n",
    "\n",
    "valid_ranges, your_ticket, other_tickets = parse_input(notes)\n",
    "assert guess_fields(valid_ranges, your_ticket, other_tickets) == ['row', 'class', 'seat']"
   ]
  },
  {
   "cell_type": "code",
   "execution_count": 93,
   "metadata": {},
   "outputs": [
    {
     "output_type": "stream",
     "name": "stdout",
     "text": [
      "Part 1:  32842\nPart 2:  2628667251989\nWall time: 13 ms\n"
     ]
    }
   ],
   "source": [
    "%%time\n",
    "# Final answers\n",
    "with open('day16.txt') as f:\n",
    "    notes = f.readlines()\n",
    "    valid_ranges, your_ticket, other_tickets = parse_input(notes)\n",
    "    print('Part 1: ', sum(invalid_ticket_values(valid_ranges, other_tickets)))\n",
    "    \n",
    "    fields = guess_fields(valid_ranges, your_ticket, other_tickets)\n",
    "    print('Part 2: ', product(value for field, value in zip(fields, your_ticket) if field.startswith('departure')))"
   ]
  },
  {
   "source": [
    "# Day 17: Conway Cubes"
   ],
   "cell_type": "markdown",
   "metadata": {}
  },
  {
   "cell_type": "code",
   "execution_count": 159,
   "metadata": {},
   "outputs": [],
   "source": [
    "ds = (-1, 0, 1)\n",
    "\n",
    "class CubeState(Enum):\n",
    "    INACTIVE = 0\n",
    "    ACTIVE = 1\n",
    "\n",
    "CubeGrid = lambda init={}: defaultdict(lambda: CubeState.INACTIVE, init)\n",
    "\n",
    "def neighboring_cells(cell):\n",
    "    \"\"\"\n",
    "    >>> list(neighboring_cells((0, 0)))\n",
    "    [(-1, -1), (-1, 0), (-1, 1), (0, -1), (0, 1), (1, -1), (1, 0), (1, 1)]\n",
    "    >>> len(list(neighboring_cells((0, 0, 0))))\n",
    "    26\n",
    "    >>> len(list(neighboring_cells((-1, 0, 0, 1))))\n",
    "    80\n",
    "    \"\"\"\n",
    "    for deltas in itertools.product(*[ds]*len(cell)):\n",
    "        if all(d == 0 for d in deltas): continue\n",
    "        yield tuple(c+d for c, d in zip(cell, deltas))\n",
    "\n",
    "def parse_state(state_2d, dims=3):\n",
    "    rows = state_2d.strip().splitlines()\n",
    "    state_3d = CubeGrid()\n",
    "    for y, row in enumerate(rows):\n",
    "        for x, state in enumerate(row.strip()):\n",
    "            coord = (x, y) + (0,) * (dims - 2)\n",
    "            state_3d[coord] = CubeState.INACTIVE if state == '.' else CubeState.ACTIVE\n",
    "    return state_3d\n",
    "\n",
    "def num_active(state):\n",
    "    return sum(cell_state.value for cell_state in state.values())\n",
    "\n",
    "def step(initial_state, n_steps=1):\n",
    "    \"\"\"\n",
    "    >>> initial_state = parse_state('''\n",
    "    ...    .#.\n",
    "    ...    ..#\n",
    "    ...    ###\n",
    "    ... ''')\n",
    "    >>> num_active(step(initial_state, n_steps=6))\n",
    "    112\n",
    "    \"\"\"\n",
    "    prev_state = CubeGrid(initial_state)\n",
    "    \n",
    "    while n_steps > 0:\n",
    "        # Visit cells and their neighbors this iteration, extending the boundary\n",
    "        # of visited cells by one.\n",
    "        to_visit = set(prev_state.keys())\n",
    "        for cell in prev_state:\n",
    "            to_visit.update(neighboring_cells(cell))\n",
    "        #print('Steps remaining', n_steps, ', cells to visit', len(to_visit))\n",
    "\n",
    "        # Perform a single update step.\n",
    "        next_state = CubeGrid()\n",
    "        for cell in to_visit:\n",
    "            state = prev_state[cell]\n",
    "            # Count the number of living neighbors and update current state.\n",
    "            live_neighbors = sum(prev_state[n].value for n in neighboring_cells(cell))\n",
    "            if state == CubeState.ACTIVE and live_neighbors not in (2, 3):\n",
    "                next_state[cell] = CubeState.INACTIVE\n",
    "            elif state == CubeState.INACTIVE and live_neighbors == 3:\n",
    "                next_state[cell] = CubeState.ACTIVE\n",
    "            else:\n",
    "                next_state[cell] = state\n",
    "\n",
    "        prev_state = next_state\n",
    "        n_steps -= 1\n",
    "    \n",
    "    return prev_state\n",
    "\n"
   ]
  },
  {
   "cell_type": "code",
   "execution_count": 160,
   "metadata": {},
   "outputs": [
    {
     "output_type": "stream",
     "name": "stdout",
     "text": [
      "Finding tests in NoName\n",
      "Trying:\n",
      "    list(neighboring_cells((0, 0)))\n",
      "Expecting:\n",
      "    [(-1, -1), (-1, 0), (-1, 1), (0, -1), (0, 1), (1, -1), (1, 0), (1, 1)]\n",
      "ok\n",
      "Trying:\n",
      "    len(list(neighboring_cells((0, 0, 0))))\n",
      "Expecting:\n",
      "    26\n",
      "ok\n",
      "Trying:\n",
      "    len(list(neighboring_cells((-1, 0, 0, 1))))\n",
      "Expecting:\n",
      "    80\n",
      "ok\n",
      "Finding tests in NoName\n",
      "Trying:\n",
      "    initial_state = parse_state('''\n",
      "       .#.\n",
      "       ..#\n",
      "       ###\n",
      "    ''')\n",
      "Expecting nothing\n",
      "ok\n",
      "Trying:\n",
      "    num_active(step(initial_state, n_steps=6))\n",
      "Expecting:\n",
      "    112\n",
      "ok\n"
     ]
    }
   ],
   "source": [
    "doctest.run_docstring_examples(neighboring_cells, globs=None, verbose=True)\r\n",
    "doctest.run_docstring_examples(step, globs=None, verbose=True)"
   ]
  },
  {
   "cell_type": "code",
   "execution_count": 161,
   "metadata": {},
   "outputs": [
    {
     "output_type": "stream",
     "name": "stdout",
     "text": [
      "Part 1:  306\n",
      "Part 2:  2572\n",
      "Wall time: 47.8 s\n"
     ]
    }
   ],
   "source": [
    "%%time\n",
    "# Final answers\n",
    "with open('day17.txt') as f:\n",
    "    initial_state_2d = f.read()\n",
    "    initial_state_3d = parse_state(initial_state_2d, dims=3)\n",
    "    print('Part 1: ', num_active(step(initial_state_3d, 6)))\n",
    "    \n",
    "    initial_state_4d = parse_state(initial_state_2d, dims=4)\n",
    "    print('Part 2: ', num_active(step(initial_state_4d, 6)))"
   ]
  }
 ]
}