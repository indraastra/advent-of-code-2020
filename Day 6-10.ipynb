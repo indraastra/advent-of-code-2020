{
 "metadata": {
  "language_info": {
   "codemirror_mode": {
    "name": "ipython",
    "version": 3
   },
   "file_extension": ".py",
   "mimetype": "text/x-python",
   "name": "python",
   "nbconvert_exporter": "python",
   "pygments_lexer": "ipython3",
   "version": "3.7.3-final"
  },
  "orig_nbformat": 2,
  "kernelspec": {
   "name": "python3",
   "display_name": "Python 3"
  }
 },
 "nbformat": 4,
 "nbformat_minor": 2,
 "cells": [
  {
   "source": [
    "# Common imports & library functions"
   ],
   "cell_type": "markdown",
   "metadata": {}
  },
  {
   "cell_type": "code",
   "execution_count": 59,
   "metadata": {},
   "outputs": [],
   "source": [
    "import collections\n",
    "from collections import defaultdict, Counter\n",
    "from dataclasses import dataclass\n",
    "import doctest\n",
    "import functools\n",
    "import itertools\n",
    "import math\n",
    "import re"
   ]
  },
  {
   "source": [
    "# Day 6: Custom Customs"
   ],
   "cell_type": "markdown",
   "metadata": {}
  },
  {
   "cell_type": "code",
   "execution_count": 84,
   "metadata": {},
   "outputs": [],
   "source": [
    "_sanitize_re = re.compile('[^a-z]')\n",
    "def sanitize(responses):\n",
    "    \"\"\"\n",
    "    >>> sanitize('ab\\\\n c d\\\\ng')\n",
    "    'abcdg'\n",
    "    >>> sanitize('abcxyz123')\n",
    "    'abcxyz'\n",
    "    \"\"\"\n",
    "    return _sanitize_re.sub('', responses)\n",
    "\n",
    "_union = Counter\n",
    "_intersection = lambda sets: set.intersection(*sets)\n",
    "_num_anyone = lambda r: len(_union(sanitize(r)))\n",
    "_num_everyone = lambda r: len(_intersection(set(sanitize(a)) for a in r.split('\\n')))\n",
    "\n",
    "def num_yes_questions(responses, count_method):\n",
    "    return sum(count_method(r.strip()) for r in responses.split('\\n\\n'))\n",
    "\n",
    "def num_anyone_yes_questions(responses):\n",
    "    \"\"\"\n",
    "    >>> num_anyone_yes_questions('abcx\\\\nabcy\\\\nabcz')\n",
    "    6\n",
    "    >>> num_anyone_yes_questions('''\n",
    "    ...     abc \\\\n\n",
    "    ...     a \\\\n b \\\\n c \\\\n\n",
    "    ...     ab \\\\n ac \\\\n\n",
    "    ...     a \\\\n a \\\\n a \\\\n a \\\\n\n",
    "    ...     b\n",
    "    ... ''')\n",
    "    11\n",
    "    \"\"\"\n",
    "    return num_yes_questions(responses, _num_anyone)\n",
    "\n",
    "def num_everyone_yes_questions(responses):\n",
    "    \"\"\"\n",
    "    >>> num_everyone_yes_questions('abcx\\\\nabcy\\\\nabcz')\n",
    "    3\n",
    "    >>> num_everyone_yes_questions('''\n",
    "    ...     abc \\\\n\n",
    "    ...     a \\\\n b \\\\n c \\\\n''')\n",
    "    3\n",
    "    >>> num_everyone_yes_questions('''\n",
    "    ...     abc \\\\n\n",
    "    ...     a \\\\n b \\\\n c \\\\n\n",
    "    ...     ab \\\\n ac \\\\n\n",
    "    ...     a \\\\n a \\\\n a \\\\n a \\\\n\n",
    "    ...     b\n",
    "    ... ''')\n",
    "    6\n",
    "    \"\"\"\n",
    "    return num_yes_questions(responses, _num_everyone)"
   ]
  },
  {
   "cell_type": "code",
   "execution_count": 85,
   "metadata": {},
   "outputs": [
    {
     "output_type": "stream",
     "name": "stdout",
     "text": [
      "Finding tests in NoName\nTrying:\n    sanitize('ab\\n c d\\ng')\nExpecting:\n    'abcdg'\nok\nTrying:\n    sanitize('abcxyz123')\nExpecting:\n    'abcxyz'\nok\nFinding tests in NoName\nTrying:\n    num_anyone_yes_questions('abcx\\nabcy\\nabcz')\nExpecting:\n    6\nok\nTrying:\n    num_anyone_yes_questions('''\n        abc \\n\n        a \\n b \\n c \\n\n        ab \\n ac \\n\n        a \\n a \\n a \\n a \\n\n        b\n    ''')\nExpecting:\n    11\nok\nFinding tests in NoName\nTrying:\n    num_everyone_yes_questions('abcx\\nabcy\\nabcz')\nExpecting:\n    3\nok\nTrying:\n    num_everyone_yes_questions('''\n        abc \\n\n        a \\n b \\n c \\n''')\nExpecting:\n    3\nok\nTrying:\n    num_everyone_yes_questions('''\n        abc \\n\n        a \\n b \\n c \\n\n        ab \\n ac \\n\n        a \\n a \\n a \\n a \\n\n        b\n    ''')\nExpecting:\n    6\nok\n"
     ]
    }
   ],
   "source": [
    "doctest.run_docstring_examples(sanitize, globs=None, verbose=True)\n",
    "doctest.run_docstring_examples(num_anyone_yes_questions, globs=None, verbose=True)\n",
    "doctest.run_docstring_examples(num_everyone_yes_questions, globs=None, verbose=True)"
   ]
  },
  {
   "cell_type": "code",
   "execution_count": 86,
   "metadata": {},
   "outputs": [
    {
     "output_type": "stream",
     "name": "stdout",
     "text": [
      "Part 1:  6387\nPart 1:  3039\n"
     ]
    }
   ],
   "source": [
    "# Final answers\n",
    "with open('day6.txt') as f:\n",
    "    responses = f.read().strip()\n",
    "    print('Part 1: ', num_anyone_yes_questions(responses))\n",
    "    print('Part 1: ', num_everyone_yes_questions(responses))"
   ]
  },
  {
   "source": [
    "# Day 7: Handy Haversacks"
   ],
   "cell_type": "markdown",
   "metadata": {}
  },
  {
   "cell_type": "code",
   "execution_count": 120,
   "metadata": {},
   "outputs": [],
   "source": [
    "def parse_rule(rule):\n",
    "    \"\"\"\n",
    "    >>> parse_rule('1 bright white bag')\n",
    "    (1, 'bright white')\n",
    "    >>> parse_rule('2 yellow bags')\n",
    "    (2, 'yellow')\n",
    "    \"\"\"\n",
    "    parts = rule.split()\n",
    "    return int(parts[0]), ' '.join(parts[1:-1])\n",
    "\n",
    "def parse_rules(rules):\n",
    "    \"\"\"\n",
    "    >>> parse_rules('5 faded blue bags, 6 dotted black bags')\n",
    "    [(5, 'faded blue'), (6, 'dotted black')]\n",
    "    >>> parse_rules('no other bags')\n",
    "    []\n",
    "    \"\"\"\n",
    "    if rules == 'no other bags': return []\n",
    "    return [parse_rule(rule.strip()) for rule in rules.split(',')]\n",
    "\n",
    "def parse_regulations(regulations):\n",
    "    mapping = {}\n",
    "    regulations = regulations.split('.')\n",
    "    for regulation in regulations:\n",
    "        regulation = regulation.strip()\n",
    "        if not regulation: continue\n",
    "        color, rules = regulation.strip().split('bags contain')\n",
    "        mapping[color.strip()] = parse_rules(rules.strip()) \n",
    "    return mapping\n",
    "\n",
    "def count_ancestors(color, regulations):\n",
    "    parent_links = defaultdict(set)\n",
    "    for parent, children in regulations.items():\n",
    "        for _, child in children:\n",
    "            parent_links[child].add(parent)\n",
    "    \n",
    "    ancestors = set()\n",
    "    to_visit = {color}\n",
    "    while to_visit:\n",
    "        child = to_visit.pop()\n",
    "        parents = parent_links[child]\n",
    "        to_visit |= parents\n",
    "        ancestors |= parents \n",
    "    return len(ancestors)\n",
    "\n",
    "from functools import lru_cache\n",
    "\n",
    "def bags_contained(color, regulations):\n",
    "    @lru_cache(len(regulations))\n",
    "    def _bags_contained(color):\n",
    "        children = regulations[color]\n",
    "        if not children: return 0\n",
    "        return sum(count * (_bags_contained(child) + 1)\n",
    "                   for count, child in children)\n",
    "    return _bags_contained(color)\n"
   ]
  },
  {
   "cell_type": "code",
   "execution_count": 63,
   "metadata": {},
   "outputs": [
    {
     "output_type": "stream",
     "name": "stdout",
     "text": [
      "Finding tests in NoName\nTrying:\n    parse_rule('1 bright white bag')\nExpecting:\n    (1, 'bright white')\nok\nTrying:\n    parse_rule('2 yellow bags')\nExpecting:\n    (2, 'yellow')\nok\nFinding tests in NoName\nTrying:\n    parse_rules('5 faded blue bags, 6 dotted black bags')\nExpecting:\n    [(5, 'faded blue'), (6, 'dotted black')]\nok\nTrying:\n    parse_rules('no other bags')\nExpecting:\n    []\nok\n"
     ]
    }
   ],
   "source": [
    "doctest.run_docstring_examples(parse_rule, globs=None, verbose=True)\n",
    "doctest.run_docstring_examples(parse_rules, globs=None, verbose=True)"
   ]
  },
  {
   "cell_type": "code",
   "execution_count": 121,
   "metadata": {},
   "outputs": [],
   "source": [
    "test_regulations = \"\"\"\n",
    "light red bags contain 1 bright white bag, 2 muted yellow bags.\n",
    "dark orange bags contain 3 bright white bags, 4 muted yellow bags.\n",
    "bright white bags contain 1 shiny gold bag.\n",
    "muted yellow bags contain 2 shiny gold bags, 9 faded blue bags.\n",
    "shiny gold bags contain 1 dark olive bag, 2 vibrant plum bags.\n",
    "dark olive bags contain 3 faded blue bags, 4 dotted black bags.\n",
    "vibrant plum bags contain 5 faded blue bags, 6 dotted black bags.\n",
    "faded blue bags contain no other bags.\n",
    "dotted black bags contain no other bags.\n",
    "\"\"\"\n",
    "expected_mapping = {\n",
    "    'light red': [(1, 'bright white'), (2, 'muted yellow')],\n",
    "    'dark orange': [(3, 'bright white'), (4, 'muted yellow')],\n",
    "    'bright white': [(1, 'shiny gold')],\n",
    "    'muted yellow': [(2, 'shiny gold'), (9, 'faded blue')],\n",
    "    'shiny gold': [(1, 'dark olive'), (2, 'vibrant plum')],\n",
    "    'dark olive': [(3, 'faded blue'), (4, 'dotted black')],\n",
    "    'vibrant plum': [(5, 'faded blue'), (6, 'dotted black')],\n",
    "    'faded blue': [],\n",
    "    'dotted black': []\n",
    "}\n",
    "assert parse_regulations(test_regulations) == expected_mapping\n",
    "assert count_ancestors('shiny gold', expected_mapping) == 4"
   ]
  },
  {
   "cell_type": "code",
   "execution_count": 122,
   "metadata": {},
   "outputs": [],
   "source": [
    "test_regulations = \"\"\"\n",
    "shiny gold bags contain 2 dark red bags.\n",
    "dark red bags contain 2 dark orange bags.\n",
    "dark orange bags contain 2 dark yellow bags.\n",
    "dark yellow bags contain 2 dark green bags.\n",
    "dark green bags contain 2 dark blue bags.\n",
    "dark blue bags contain 2 dark violet bags.\n",
    "dark violet bags contain no other bags.\n",
    "\"\"\"\n",
    "assert bags_contained('shiny gold', parse_regulations(test_regulations)) == 126"
   ]
  },
  {
   "cell_type": "code",
   "execution_count": 123,
   "metadata": {},
   "outputs": [
    {
     "output_type": "stream",
     "name": "stdout",
     "text": [
      "Part 1:  103\nPart 2:  1469\n"
     ]
    }
   ],
   "source": [
    "# Final answers\n",
    "with open('day7.txt') as f:\n",
    "    regulations = parse_regulations(f.read().strip())\n",
    "    print('Part 1: ', count_ancestors('shiny gold', regulations))\n",
    "    print('Part 2: ', bags_contained('shiny gold', regulations))"
   ]
  },
  {
   "cell_type": "code",
   "execution_count": null,
   "metadata": {},
   "outputs": [],
   "source": []
  }
 ]
}