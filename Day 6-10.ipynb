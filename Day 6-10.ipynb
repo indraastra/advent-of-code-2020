{
 "metadata": {
  "language_info": {
   "codemirror_mode": {
    "name": "ipython",
    "version": 3
   },
   "file_extension": ".py",
   "mimetype": "text/x-python",
   "name": "python",
   "nbconvert_exporter": "python",
   "pygments_lexer": "ipython3",
   "version": "3.7.3-final"
  },
  "orig_nbformat": 2,
  "kernelspec": {
   "name": "python3",
   "display_name": "Python 3"
  }
 },
 "nbformat": 4,
 "nbformat_minor": 2,
 "cells": [
  {
   "source": [
    "# Common imports & library functions"
   ],
   "cell_type": "markdown",
   "metadata": {}
  },
  {
   "cell_type": "code",
   "execution_count": 3,
   "metadata": {},
   "outputs": [],
   "source": [
    "import collections\n",
    "from collections import defaultdict, Counter\n",
    "from dataclasses import dataclass\n",
    "import doctest\n",
    "import functools\n",
    "import itertools\n",
    "import math\n",
    "import re"
   ]
  },
  {
   "source": [
    "# Day 6: Custom Customs"
   ],
   "cell_type": "markdown",
   "metadata": {}
  },
  {
   "cell_type": "code",
   "execution_count": 84,
   "metadata": {},
   "outputs": [],
   "source": [
    "_sanitize_re = re.compile('[^a-z]')\n",
    "def sanitize(responses):\n",
    "    \"\"\"\n",
    "    >>> sanitize('ab\\\\n c d\\\\ng')\n",
    "    'abcdg'\n",
    "    >>> sanitize('abcxyz123')\n",
    "    'abcxyz'\n",
    "    \"\"\"\n",
    "    return _sanitize_re.sub('', responses)\n",
    "\n",
    "_union = Counter\n",
    "_intersection = lambda sets: set.intersection(*sets)\n",
    "_num_anyone = lambda r: len(_union(sanitize(r)))\n",
    "_num_everyone = lambda r: len(_intersection(set(sanitize(a)) for a in r.split('\\n')))\n",
    "\n",
    "def num_yes_questions(responses, count_method):\n",
    "    return sum(count_method(r.strip()) for r in responses.split('\\n\\n'))\n",
    "\n",
    "def num_anyone_yes_questions(responses):\n",
    "    \"\"\"\n",
    "    >>> num_anyone_yes_questions('abcx\\\\nabcy\\\\nabcz')\n",
    "    6\n",
    "    >>> num_anyone_yes_questions('''\n",
    "    ...     abc \\\\n\n",
    "    ...     a \\\\n b \\\\n c \\\\n\n",
    "    ...     ab \\\\n ac \\\\n\n",
    "    ...     a \\\\n a \\\\n a \\\\n a \\\\n\n",
    "    ...     b\n",
    "    ... ''')\n",
    "    11\n",
    "    \"\"\"\n",
    "    return num_yes_questions(responses, _num_anyone)\n",
    "\n",
    "def num_everyone_yes_questions(responses):\n",
    "    \"\"\"\n",
    "    >>> num_everyone_yes_questions('abcx\\\\nabcy\\\\nabcz')\n",
    "    3\n",
    "    >>> num_everyone_yes_questions('''\n",
    "    ...     abc \\\\n\n",
    "    ...     a \\\\n b \\\\n c \\\\n''')\n",
    "    3\n",
    "    >>> num_everyone_yes_questions('''\n",
    "    ...     abc \\\\n\n",
    "    ...     a \\\\n b \\\\n c \\\\n\n",
    "    ...     ab \\\\n ac \\\\n\n",
    "    ...     a \\\\n a \\\\n a \\\\n a \\\\n\n",
    "    ...     b\n",
    "    ... ''')\n",
    "    6\n",
    "    \"\"\"\n",
    "    return num_yes_questions(responses, _num_everyone)"
   ]
  },
  {
   "cell_type": "code",
   "execution_count": 85,
   "metadata": {},
   "outputs": [
    {
     "output_type": "stream",
     "name": "stdout",
     "text": [
      "Finding tests in NoName\nTrying:\n    sanitize('ab\\n c d\\ng')\nExpecting:\n    'abcdg'\nok\nTrying:\n    sanitize('abcxyz123')\nExpecting:\n    'abcxyz'\nok\nFinding tests in NoName\nTrying:\n    num_anyone_yes_questions('abcx\\nabcy\\nabcz')\nExpecting:\n    6\nok\nTrying:\n    num_anyone_yes_questions('''\n        abc \\n\n        a \\n b \\n c \\n\n        ab \\n ac \\n\n        a \\n a \\n a \\n a \\n\n        b\n    ''')\nExpecting:\n    11\nok\nFinding tests in NoName\nTrying:\n    num_everyone_yes_questions('abcx\\nabcy\\nabcz')\nExpecting:\n    3\nok\nTrying:\n    num_everyone_yes_questions('''\n        abc \\n\n        a \\n b \\n c \\n''')\nExpecting:\n    3\nok\nTrying:\n    num_everyone_yes_questions('''\n        abc \\n\n        a \\n b \\n c \\n\n        ab \\n ac \\n\n        a \\n a \\n a \\n a \\n\n        b\n    ''')\nExpecting:\n    6\nok\n"
     ]
    }
   ],
   "source": [
    "doctest.run_docstring_examples(sanitize, globs=None, verbose=True)\n",
    "doctest.run_docstring_examples(num_anyone_yes_questions, globs=None, verbose=True)\n",
    "doctest.run_docstring_examples(num_everyone_yes_questions, globs=None, verbose=True)"
   ]
  },
  {
   "cell_type": "code",
   "execution_count": 86,
   "metadata": {},
   "outputs": [
    {
     "output_type": "stream",
     "name": "stdout",
     "text": [
      "Part 1:  6387\nPart 1:  3039\n"
     ]
    }
   ],
   "source": [
    "# Final answers\n",
    "with open('day6.txt') as f:\n",
    "    responses = f.read().strip()\n",
    "    print('Part 1: ', num_anyone_yes_questions(responses))\n",
    "    print('Part 1: ', num_everyone_yes_questions(responses))"
   ]
  },
  {
   "source": [
    "# Day 7: Handy Haversacks"
   ],
   "cell_type": "markdown",
   "metadata": {}
  },
  {
   "cell_type": "code",
   "execution_count": 120,
   "metadata": {},
   "outputs": [],
   "source": [
    "def parse_rule(rule):\n",
    "    \"\"\"\n",
    "    >>> parse_rule('1 bright white bag')\n",
    "    (1, 'bright white')\n",
    "    >>> parse_rule('2 yellow bags')\n",
    "    (2, 'yellow')\n",
    "    \"\"\"\n",
    "    parts = rule.split()\n",
    "    return int(parts[0]), ' '.join(parts[1:-1])\n",
    "\n",
    "def parse_rules(rules):\n",
    "    \"\"\"\n",
    "    >>> parse_rules('5 faded blue bags, 6 dotted black bags')\n",
    "    [(5, 'faded blue'), (6, 'dotted black')]\n",
    "    >>> parse_rules('no other bags')\n",
    "    []\n",
    "    \"\"\"\n",
    "    if rules == 'no other bags': return []\n",
    "    return [parse_rule(rule.strip()) for rule in rules.split(',')]\n",
    "\n",
    "def parse_regulations(regulations):\n",
    "    mapping = {}\n",
    "    regulations = regulations.split('.')\n",
    "    for regulation in regulations:\n",
    "        regulation = regulation.strip()\n",
    "        if not regulation: continue\n",
    "        color, rules = regulation.strip().split('bags contain')\n",
    "        mapping[color.strip()] = parse_rules(rules.strip()) \n",
    "    return mapping\n",
    "\n",
    "def count_ancestors(color, regulations):\n",
    "    parent_links = defaultdict(set)\n",
    "    for parent, children in regulations.items():\n",
    "        for _, child in children:\n",
    "            parent_links[child].add(parent)\n",
    "    \n",
    "    ancestors = set()\n",
    "    to_visit = {color}\n",
    "    while to_visit:\n",
    "        child = to_visit.pop()\n",
    "        parents = parent_links[child]\n",
    "        to_visit |= parents\n",
    "        ancestors |= parents \n",
    "    return len(ancestors)\n",
    "\n",
    "from functools import lru_cache\n",
    "\n",
    "def bags_contained(color, regulations):\n",
    "    @lru_cache(len(regulations))\n",
    "    def _bags_contained(color):\n",
    "        children = regulations[color]\n",
    "        if not children: return 0\n",
    "        return sum(count * (_bags_contained(child) + 1)\n",
    "                   for count, child in children)\n",
    "    return _bags_contained(color)\n"
   ]
  },
  {
   "cell_type": "code",
   "execution_count": 63,
   "metadata": {},
   "outputs": [
    {
     "output_type": "stream",
     "name": "stdout",
     "text": [
      "Finding tests in NoName\nTrying:\n    parse_rule('1 bright white bag')\nExpecting:\n    (1, 'bright white')\nok\nTrying:\n    parse_rule('2 yellow bags')\nExpecting:\n    (2, 'yellow')\nok\nFinding tests in NoName\nTrying:\n    parse_rules('5 faded blue bags, 6 dotted black bags')\nExpecting:\n    [(5, 'faded blue'), (6, 'dotted black')]\nok\nTrying:\n    parse_rules('no other bags')\nExpecting:\n    []\nok\n"
     ]
    }
   ],
   "source": [
    "doctest.run_docstring_examples(parse_rule, globs=None, verbose=True)\n",
    "doctest.run_docstring_examples(parse_rules, globs=None, verbose=True)"
   ]
  },
  {
   "cell_type": "code",
   "execution_count": 121,
   "metadata": {},
   "outputs": [],
   "source": [
    "test_regulations = \"\"\"\n",
    "light red bags contain 1 bright white bag, 2 muted yellow bags.\n",
    "dark orange bags contain 3 bright white bags, 4 muted yellow bags.\n",
    "bright white bags contain 1 shiny gold bag.\n",
    "muted yellow bags contain 2 shiny gold bags, 9 faded blue bags.\n",
    "shiny gold bags contain 1 dark olive bag, 2 vibrant plum bags.\n",
    "dark olive bags contain 3 faded blue bags, 4 dotted black bags.\n",
    "vibrant plum bags contain 5 faded blue bags, 6 dotted black bags.\n",
    "faded blue bags contain no other bags.\n",
    "dotted black bags contain no other bags.\n",
    "\"\"\"\n",
    "expected_mapping = {\n",
    "    'light red': [(1, 'bright white'), (2, 'muted yellow')],\n",
    "    'dark orange': [(3, 'bright white'), (4, 'muted yellow')],\n",
    "    'bright white': [(1, 'shiny gold')],\n",
    "    'muted yellow': [(2, 'shiny gold'), (9, 'faded blue')],\n",
    "    'shiny gold': [(1, 'dark olive'), (2, 'vibrant plum')],\n",
    "    'dark olive': [(3, 'faded blue'), (4, 'dotted black')],\n",
    "    'vibrant plum': [(5, 'faded blue'), (6, 'dotted black')],\n",
    "    'faded blue': [],\n",
    "    'dotted black': []\n",
    "}\n",
    "assert parse_regulations(test_regulations) == expected_mapping\n",
    "assert count_ancestors('shiny gold', expected_mapping) == 4"
   ]
  },
  {
   "cell_type": "code",
   "execution_count": 122,
   "metadata": {},
   "outputs": [],
   "source": [
    "test_regulations = \"\"\"\n",
    "shiny gold bags contain 2 dark red bags.\n",
    "dark red bags contain 2 dark orange bags.\n",
    "dark orange bags contain 2 dark yellow bags.\n",
    "dark yellow bags contain 2 dark green bags.\n",
    "dark green bags contain 2 dark blue bags.\n",
    "dark blue bags contain 2 dark violet bags.\n",
    "dark violet bags contain no other bags.\n",
    "\"\"\"\n",
    "assert bags_contained('shiny gold', parse_regulations(test_regulations)) == 126"
   ]
  },
  {
   "cell_type": "code",
   "execution_count": 123,
   "metadata": {},
   "outputs": [
    {
     "output_type": "stream",
     "name": "stdout",
     "text": [
      "Part 1:  103\nPart 2:  1469\n"
     ]
    }
   ],
   "source": [
    "# Final answers\n",
    "with open('day7.txt') as f:\n",
    "    regulations = parse_regulations(f.read().strip())\n",
    "    print('Part 1: ', count_ancestors('shiny gold', regulations))\n",
    "    print('Part 2: ', bags_contained('shiny gold', regulations))"
   ]
  },
  {
   "source": [
    "# Day 8: Handheld Halting"
   ],
   "cell_type": "markdown",
   "metadata": {}
  },
  {
   "cell_type": "code",
   "execution_count": 53,
   "metadata": {},
   "outputs": [],
   "source": [
    "from enum import auto, Enum\n",
    "\n",
    "def parse_instruction(instr):\n",
    "    \"\"\"\n",
    "    >>> parse_instruction('acc -99')\n",
    "    ('acc', -99)\n",
    "    >>> parse_instruction('nop +0')\n",
    "    ('nop', 0)\n",
    "    \"\"\"\n",
    "    op, arg = instr.split()\n",
    "    return op, int(arg)\n",
    "\n",
    "def parse_instructions(instrs):\n",
    "    return [parse_instruction(i)\n",
    "            for i in instrs.strip().splitlines()]\n",
    "\n",
    "class State(Enum):\n",
    "    TERMINATED = auto()\n",
    "    RUNNING = auto()\n",
    "    LOOPED = auto()\n",
    "\n",
    "    def __repr__(self):\n",
    "        return '<%s.%s>' % (self.__class__.__name__, self.name)\n",
    "\n",
    "def execute_until_loop(instrs):\n",
    "    \"\"\"\n",
    "    >>> execute_until_loop(parse_instructions('jmp +0'))\n",
    "    (<State.LOOPED>, 0)\n",
    "    >>> execute_until_loop(parse_instructions('''\n",
    "    ...     nop +0  \n",
    "    ...     acc +1\n",
    "    ...     jmp +4\n",
    "    ...     acc +3\n",
    "    ...     jmp -3\n",
    "    ...     acc -99\n",
    "    ...     acc +1\n",
    "    ...     jmp -4\n",
    "    ...     acc +6\n",
    "    ... '''))\n",
    "    (<State.LOOPED>, 5)\n",
    "    >>> execute_until_loop(parse_instructions('''\n",
    "    ...     nop +0\n",
    "    ...     acc +1\n",
    "    ...     jmp +4\n",
    "    ...     acc +3\n",
    "    ...     jmp -3\n",
    "    ...     acc -99\n",
    "    ...     acc +1\n",
    "    ...     nop -4\n",
    "    ...     acc +6\n",
    "    ... '''))\n",
    "    (<State.TERMINATED>, 8)\n",
    "    \"\"\"\n",
    "    acc = ip = 0\n",
    "    state = State.RUNNING\n",
    "    exec_counts = [0] * len(instrs)\n",
    "    while True:\n",
    "        if ip >= len(instrs):\n",
    "            return state.TERMINATED, acc\n",
    "        if exec_counts[ip]:\n",
    "            return state.LOOPED, acc\n",
    "\n",
    "        op, arg = instrs[ip]\n",
    "        exec_counts[ip] += 1    \n",
    "        if op == 'nop':\n",
    "            ip += 1\n",
    "        elif op == 'jmp':\n",
    "            ip += arg\n",
    "        elif op == 'acc':\n",
    "            acc += arg\n",
    "            ip += 1\n",
    "        else:\n",
    "            raise Exception(f'Unknown op: {op}')\n",
    "\n",
    "def suggest_fixed_instructions(instrs):\n",
    "    \"\"\"\n",
    "    >>> list(suggest_fixed_instructions([('jmp', 0), ('acc', 3), ('nop', 1)]))\n",
    "    [[('nop', 0), ('acc', 3), ('nop', 1)], [('jmp', 0), ('acc', 3), ('jmp', 1)]]\n",
    "    \"\"\"\n",
    "    for i in range(len(instrs)):\n",
    "        op, arg = instrs[i]\n",
    "        if op == 'jmp':\n",
    "            op = 'nop'\n",
    "        elif op == 'nop':\n",
    "            op = 'jmp'\n",
    "        else:\n",
    "            continue\n",
    "        yield instrs[:i] + [(op, arg)] + instrs[i+1:]\n",
    "\n",
    "def fix_and_execute_until_termination(instrs):\n",
    "    \"\"\"\n",
    "    >>> fix_and_execute_until_termination(parse_instructions('''\n",
    "    ...     nop +0  \n",
    "    ...     acc +1\n",
    "    ...     jmp +4\n",
    "    ...     acc +3\n",
    "    ...     jmp -3\n",
    "    ...     acc -99\n",
    "    ...     acc +1\n",
    "    ...     jmp -4\n",
    "    ...     acc +6\n",
    "    ... '''))\n",
    "    8\n",
    "    \"\"\"\n",
    "    for maybe_fixed_instrs in suggest_fixed_instructions(instrs):\n",
    "        state, acc = execute_until_loop(maybe_fixed_instrs)\n",
    "        if state == State.TERMINATED:\n",
    "            return acc"
   ]
  },
  {
   "cell_type": "code",
   "execution_count": 54,
   "metadata": {},
   "outputs": [
    {
     "output_type": "stream",
     "name": "stdout",
     "text": [
      "Finding tests in NoName\nTrying:\n    parse_instruction('acc -99')\nExpecting:\n    ('acc', -99)\nok\nTrying:\n    parse_instruction('nop +0')\nExpecting:\n    ('nop', 0)\nok\nFinding tests in NoName\nTrying:\n    execute_until_loop(parse_instructions('jmp +0'))\nExpecting:\n    (<State.LOOPED>, 0)\nok\nTrying:\n    execute_until_loop(parse_instructions('''\n        nop +0  \n        acc +1\n        jmp +4\n        acc +3\n        jmp -3\n        acc -99\n        acc +1\n        jmp -4\n        acc +6\n    '''))\nExpecting:\n    (<State.LOOPED>, 5)\nok\nTrying:\n    execute_until_loop(parse_instructions('''\n        nop +0\n        acc +1\n        jmp +4\n        acc +3\n        jmp -3\n        acc -99\n        acc +1\n        nop -4\n        acc +6\n    '''))\nExpecting:\n    (<State.TERMINATED>, 8)\nok\nFinding tests in NoName\nTrying:\n    list(suggest_fixed_instructions([('jmp', 0), ('acc', 3), ('nop', 1)]))\nExpecting:\n    [[('nop', 0), ('acc', 3), ('nop', 1)], [('jmp', 0), ('acc', 3), ('jmp', 1)]]\nok\n"
     ]
    }
   ],
   "source": [
    "doctest.run_docstring_examples(parse_instruction, globs=None, verbose=True)\n",
    "doctest.run_docstring_examples(execute_until_loop, globs=None, verbose=True)\n",
    "doctest.run_docstring_examples(suggest_fixed_instructions, globs=None, verbose=True)"
   ]
  },
  {
   "cell_type": "code",
   "execution_count": 56,
   "metadata": {},
   "outputs": [
    {
     "output_type": "stream",
     "name": "stdout",
     "text": [
      "Part 1:  1420\nPart 2:  1245\n"
     ]
    }
   ],
   "source": [
    "# Final answers\n",
    "with open('day8.txt') as f:\n",
    "    instrs = parse_instructions(f.read())\n",
    "    print('Part 1: ', execute_until_loop(instrs)[1])\n",
    "    print('Part 2: ', fix_and_execute_until_termination(instrs))"
   ]
  },
  {
   "source": [
    "# Day 9: Encoding Error"
   ],
   "cell_type": "markdown",
   "metadata": {}
  },
  {
   "cell_type": "code",
   "execution_count": 100,
   "metadata": {},
   "outputs": [],
   "source": [
    "from itertools import combinations, islice\n",
    "\n",
    "def first_invalid_number(ns, prev_n=25):\n",
    "    \"\"\"\n",
    "    >>> first_invalid_number([\n",
    "    ...     35, 20, 15, 25, 47, 40, 62, 55, 65,\n",
    "    ...     95, 102, 117, 150, 182, 127, 219\n",
    "    ... ], prev_n=5)\n",
    "    127\n",
    "    \"\"\"\n",
    "    for i, n in islice(enumerate(ns), prev_n, None):\n",
    "        preamble = ns[i-prev_n:i]\n",
    "        if any(sum(p) == ns[i] for p in combinations(preamble, 2)):\n",
    "            continue\n",
    "        return n\n",
    "\n",
    "\n",
    "def span_summing_to(ns, n):\n",
    "    \"\"\"\n",
    "    >>> span_summing_to([35, 20, 15, 25, 47, 40, 62, 55, 65], 127)\n",
    "    [15, 25, 47, 40]\n",
    "    \"\"\"\n",
    "    for i in range(len(ns)):\n",
    "        total = 0\n",
    "        for j in range(i, len(ns)):\n",
    "            total += ns[j]\n",
    "            if total == n:\n",
    "                return ns[i:j+1]\n",
    "            elif total > n:\n",
    "                break\n",
    "            \n",
    "\n",
    "def encryption_weakness(ns, prev_n=25):\n",
    "    \"\"\"\n",
    "    >>> encryption_weakness([\n",
    "    ...     35, 20, 15, 25, 47, 40, 62, 55, 65,\n",
    "    ...     95, 102, 117, 150, 182, 127, 219\n",
    "    ... ], prev_n=5)\n",
    "    62\n",
    "    \"\"\"\n",
    "    invalid_num = first_invalid_number(ns, prev_n)\n",
    "    rs = span_summing_to(ns, invalid_num)\n",
    "    return min(rs) + max(rs)"
   ]
  },
  {
   "cell_type": "code",
   "execution_count": 101,
   "metadata": {},
   "outputs": [
    {
     "output_type": "stream",
     "name": "stdout",
     "text": [
      "Finding tests in NoName\nTrying:\n    first_invalid_number([\n        35, 20, 15, 25, 47, 40, 62, 55, 65,\n        95, 102, 117, 150, 182, 127, 219\n    ], prev_n=5)\nExpecting:\n    127\nok\nFinding tests in NoName\nTrying:\n    span_summing_to([35, 20, 15, 25, 47, 40, 62, 55, 65], 127)\nExpecting:\n    [15, 25, 47, 40]\nok\nFinding tests in NoName\nTrying:\n    encryption_weakness([\n        35, 20, 15, 25, 47, 40, 62, 55, 65,\n        95, 102, 117, 150, 182, 127, 219\n    ], prev_n=5)\nExpecting:\n    62\nok\n"
     ]
    }
   ],
   "source": [
    "doctest.run_docstring_examples(first_invalid_number, globs=None, verbose=True)\n",
    "doctest.run_docstring_examples(span_summing_to, globs=None, verbose=True)\n",
    "doctest.run_docstring_examples(encryption_weakness, globs=None, verbose=True)"
   ]
  },
  {
   "cell_type": "code",
   "execution_count": 102,
   "metadata": {},
   "outputs": [
    {
     "output_type": "stream",
     "name": "stdout",
     "text": [
      "Part 1:  21806024\nPart 2:  2986195\n"
     ]
    }
   ],
   "source": [
    "# Final answers\n",
    "with open('day9.txt') as f:\n",
    "    ns = [int(l) for l in f]\n",
    "    print('Part 1: ', first_invalid_number(ns))\n",
    "    print('Part 2: ', encryption_weakness(ns))"
   ]
  }
 ]
}