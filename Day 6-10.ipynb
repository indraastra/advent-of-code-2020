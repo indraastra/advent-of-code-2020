{
 "metadata": {
  "language_info": {
   "codemirror_mode": {
    "name": "ipython",
    "version": 3
   },
   "file_extension": ".py",
   "mimetype": "text/x-python",
   "name": "python",
   "nbconvert_exporter": "python",
   "pygments_lexer": "ipython3",
   "version": "3.7.3-final"
  },
  "orig_nbformat": 2,
  "kernelspec": {
   "name": "python3",
   "display_name": "Python 3"
  }
 },
 "nbformat": 4,
 "nbformat_minor": 2,
 "cells": [
  {
   "source": [
    "# Common imports & library functions"
   ],
   "cell_type": "markdown",
   "metadata": {}
  },
  {
   "cell_type": "code",
   "execution_count": 1,
   "metadata": {},
   "outputs": [],
   "source": [
    "import collections\n",
    "from collections import Counter\n",
    "from dataclasses import dataclass\n",
    "import doctest\n",
    "import functools\n",
    "import itertools\n",
    "import math\n",
    "import re"
   ]
  },
  {
   "source": [
    "# Day 6: Custom Customs"
   ],
   "cell_type": "markdown",
   "metadata": {}
  },
  {
   "cell_type": "code",
   "execution_count": 82,
   "metadata": {},
   "outputs": [],
   "source": [
    "_sanitize_re = re.compile('[^a-z]')\n",
    "def sanitize(responses):\n",
    "    \"\"\"\n",
    "    >>> sanitize('ab\\\\n c d\\\\ng')\n",
    "    'abcdg'\n",
    "    >>> sanitize('abcxyz123')\n",
    "    'abcxyz'\n",
    "    \"\"\"\n",
    "    return _sanitize_re.sub('', responses)\n",
    "\n",
    "_union = Counter\n",
    "_intersection = lambda sets: set.intersection(*sets)\n",
    "_num_anyone = lambda r: len(_union(sanitize(r)))\n",
    "_num_everyone = lambda r: len(_intersection(set(sanitize(a)) for a in r.split('\\n')))\n",
    "\n",
    "def num_yes_questions(responses, count_method):\n",
    "    return sum(count_method(r.strip()) for r in responses.split('\\n\\n'))\n",
    "\n",
    "def num_anyone_yes_questions(responses):\n",
    "    \"\"\"\n",
    "    >>> num_anyone_yes_questions('abcx\\\\nabcy\\\\nabcz')\n",
    "    6\n",
    "    >>> num_anyone_yes_questions('''\n",
    "    ...     abc \\\\n\n",
    "    ...     a \\\\n b \\\\n c \\\\n\n",
    "    ...     ab \\\\n ac \\\\n\n",
    "    ...     a \\\\n a \\\\n a \\\\n a \\\\n\n",
    "    ...     b\n",
    "    ... ''')\n",
    "    11\n",
    "    \"\"\"\n",
    "    return num_yes_questions(responses, _num_anyone)\n",
    "\n",
    "def num_everyone_yes_questions(responses):\n",
    "    \"\"\"\n",
    "    >>> num_everyone_yes_questions('abcx\\\\nabcy\\\\nabcz')\n",
    "    3\n",
    "    >>> num_everyone_yes_questions('''\n",
    "    ...     abc \\\\n\n",
    "    ...     a \\\\n b \\\\n c \\\\n''')\n",
    "    3\n",
    "    >>> num_everyone_yes_questions('''\n",
    "    ...     abc \\\\n\n",
    "    ...     a \\\\n b \\\\n c \\\\n\n",
    "    ...     ab \\\\n ac \\\\n\n",
    "    ...     a \\\\n a \\\\n a \\\\n a \\\\n\n",
    "    ...     b\n",
    "    ... ''')\n",
    "    6\n",
    "    \"\"\"\n",
    "    return num_yes_questions(responses, _num_everyone)\n"
   ]
  },
  {
   "cell_type": "code",
   "execution_count": 83,
   "metadata": {},
   "outputs": [
    {
     "output_type": "stream",
     "name": "stdout",
     "text": [
      "Finding tests in NoName\nTrying:\n    num_everyone_yes_questions('abcx\\nabcy\\nabcz')\nExpecting:\n    3\nok\nTrying:\n    num_everyone_yes_questions('''\n        abc \\n\n        a \\n b \\n c \\n''')\nExpecting:\n    3\nok\nTrying:\n    num_everyone_yes_questions('''\n        abc \\n\n        a \\n b \\n c \\n\n        ab \\n ac \\n\n        a \\n a \\n a \\n a \\n\n        b\n    ''')\nExpecting:\n    6\nok\n"
     ]
    }
   ],
   "source": [
    "doctest.run_docstring_examples(sanitize, globs=None, verbose=True)\n",
    "doctest.run_docstring_examples(num_anyone_yes_questions, globs=None, verbose=True)\n",
    "doctest.run_docstring_examples(num_everyone_yes_questions, globs=None, verbose=True)"
   ]
  },
  {
   "cell_type": "code",
   "execution_count": 45,
   "metadata": {},
   "outputs": [
    {
     "output_type": "stream",
     "name": "stdout",
     "text": [
      "Part 1:  6387\n"
     ]
    }
   ],
   "source": [
    "# Final answers\n",
    "with open('day6.txt') as f:\n",
    "    responses = f.read().strip()\n",
    "    print('Part 1: ', num_anyone_yes_questions(responses))\n",
    "    print('Part 1: ', num_everyone_yes_questions(responses))"
   ]
  },
  {
   "cell_type": "code",
   "execution_count": null,
   "metadata": {},
   "outputs": [],
   "source": []
  }
 ]
}