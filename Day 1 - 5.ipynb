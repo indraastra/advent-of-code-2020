{
 "metadata": {
  "language_info": {
   "codemirror_mode": {
    "name": "ipython",
    "version": 3
   },
   "file_extension": ".py",
   "mimetype": "text/x-python",
   "name": "python",
   "nbconvert_exporter": "python",
   "pygments_lexer": "ipython3",
   "version": "3.8.3-final"
  },
  "orig_nbformat": 2,
  "kernelspec": {
   "name": "python3",
   "display_name": "Python 3.8.3 64-bit ('aoc': conda)",
   "metadata": {
    "interpreter": {
     "hash": "91ecdc0959f669be397eefd8d918e676da99a58414a8579254f71bfed9ab338a"
    }
   }
  }
 },
 "nbformat": 4,
 "nbformat_minor": 2,
 "cells": [
  {
   "source": [
    "# Common imports & library functions"
   ],
   "cell_type": "markdown",
   "metadata": {}
  },
  {
   "cell_type": "code",
   "execution_count": 48,
   "metadata": {},
   "outputs": [],
   "source": [
    "import collections\n",
    "import doctest\n",
    "import functools\n",
    "import itertools\n",
    "import math"
   ]
  },
  {
   "source": [
    "# Day 1: Report Repair"
   ],
   "cell_type": "markdown",
   "metadata": {}
  },
  {
   "cell_type": "code",
   "execution_count": 45,
   "metadata": {},
   "outputs": [],
   "source": [
    "product = lambda ps: functools.reduce(lambda x, y: x * y, ps, 1)\n",
    "\n",
    "def pick_numbers_that_sum_to(ns, pick_n, target):\n",
    "    \"\"\"\n",
    "    Returns first `pick_n` numbers in `ns` to sum to `target`.\n",
    "    >>> pick_numbers_that_sum_to([1, 9, 11, 3], 2, 12)\n",
    "    (1, 11)\n",
    "    >>> pick_numbers_that_sum_to([1721, 979, 366, 299, 675, 1456], 2, 2020)\n",
    "    (1721, 299)\n",
    "    >>> pick_numbers_that_sum_to([1721, 979, 366, 299, 675, 1456], 3, 2020)\n",
    "    (979, 366, 675)\n",
    "    \"\"\"\n",
    "    ns = [n for n in ns if n < target]\n",
    "    return next(p for p in itertools.product(*[ns]*pick_n) if sum(p) == target)"
   ]
  },
  {
   "cell_type": "code",
   "execution_count": 41,
   "metadata": {},
   "outputs": [
    {
     "output_type": "stream",
     "name": "stdout",
     "text": [
      "Finding tests in NoName\nTrying:\n    pick_numbers_that_sum_to([1, 9, 11, 3], 2, 12)\nExpecting:\n    (1, 11)\nok\nTrying:\n    pick_numbers_that_sum_to([1721, 979, 366, 299, 675, 1456], 2, 2020)\nExpecting:\n    (1721, 299)\nok\nTrying:\n    pick_numbers_that_sum_to([1721, 979, 366, 299, 675, 1456], 3, 2020)\nExpecting:\n    (979, 366, 675)\nok\n"
     ]
    }
   ],
   "source": [
    "doctest.run_docstring_examples(pick_numbers_that_sum_to, globs=None, verbose=True)"
   ]
  },
  {
   "cell_type": "code",
   "execution_count": 46,
   "metadata": {},
   "outputs": [
    {
     "output_type": "stream",
     "name": "stdout",
     "text": [
      "Part 1:  876459\n",
      "Part 2:  116168640\n"
     ]
    }
   ],
   "source": [
    "# Final answers\n",
    "with open('day1.txt') as f:\n",
    "    ns = [int(l.strip()) for l in f]\n",
    "    print('Part 1: ', product(pick_numbers_that_sum_to(ns, 2, 2020)))\n",
    "    print('Part 2: ', product(pick_numbers_that_sum_to(ns, 3, 2020)))\n"
   ]
  },
  {
   "cell_type": "code",
   "execution_count": 19,
   "metadata": {},
   "outputs": [
    {
     "output_type": "execute_result",
     "data": {
      "text/plain": [
       "7"
      ]
     },
     "metadata": {},
     "execution_count": 19
    }
   ],
   "source": [
    "len([n for n in ns if n + 35 > 2020])"
   ]
  },
  {
   "source": [
    "# Day 2: Password Philosophy"
   ],
   "cell_type": "markdown",
   "metadata": {}
  },
  {
   "cell_type": "code",
   "execution_count": 69,
   "metadata": {},
   "outputs": [],
   "source": [
    "from dataclasses import dataclass\n",
    "import re\n",
    "\n",
    "line_re = re.compile(r'(\\d+)-(\\d+) (\\w): (\\w+)')\n",
    "\n",
    "@dataclass\n",
    "class Rule:\n",
    "    lo: int\n",
    "    hi: int\n",
    "    el: str\n",
    "\n",
    "def parse_line(line):\n",
    "    \"\"\"\n",
    "    >>> parse_line('1-3 a: abcde')\n",
    "    (Rule(1, 3, 'a'), 'abcde')\n",
    "    \"\"\"\n",
    "    lo, hi, el, pw = line_re.match(line).groups()\n",
    "    return Rule(int(lo), int(hi), el), pw\n",
    "\n",
    "def password_conforms_to_rule_initial(rule, password):\n",
    "    \"\"\"\n",
    "    >>> password_conforms_to_rule_initial(*parse_line('1-3 a: abcde'))\n",
    "    True\n",
    "    >>> password_conforms_to_rule_initial(*parse_line('1-3 b: cdefg'))\n",
    "    False\n",
    "    >>> password_conforms_to_rule_initial(*parse_line('2-9 c: ccccccccc'))\n",
    "    True\n",
    "    \"\"\"\n",
    "    counts = collections.Counter(password)\n",
    "    lo, hi, el = rule\n",
    "    return lo <= counts.get(el, 0) <= hi\n",
    "\n",
    "def password_conforms_to_rule_official(rule, password):\n",
    "    \"\"\"\n",
    "    >>> password_conforms_to_rule_official(*parse_line('1-3 a: abcde'))\n",
    "    True\n",
    "    >>> password_conforms_to_rule_official(*parse_line('1-3 b: cdefg'))\n",
    "    False\n",
    "    >>> password_conforms_to_rule_official(*parse_line('2-9 c: ccccccccc'))\n",
    "    False\n",
    "    \"\"\"\n",
    "    lo, hi, el = rule\n",
    "    return (password[lo-1] == el) ^ (password[hi-1] == el)"
   ]
  },
  {
   "cell_type": "code",
   "execution_count": 70,
   "metadata": {},
   "outputs": [
    {
     "output_type": "stream",
     "name": "stdout",
     "text": [
      "Finding tests in NoName\nTrying:\n    parse_line('1-3 a: abcde')\nExpecting:\n    ((1, 3, 'a'), 'abcde')\nok\nFinding tests in NoName\nTrying:\n    password_conforms_to_rule_initial(*parse_line('1-3 a: abcde'))\nExpecting:\n    True\nok\nTrying:\n    password_conforms_to_rule_initial(*parse_line('1-3 b: cdefg'))\nExpecting:\n    False\nok\nTrying:\n    password_conforms_to_rule_initial(*parse_line('2-9 c: ccccccccc'))\nExpecting:\n    True\nok\nFinding tests in NoName\nTrying:\n    password_conforms_to_rule_official(*parse_line('1-3 a: abcde'))\nExpecting:\n    True\nok\nTrying:\n    password_conforms_to_rule_official(*parse_line('1-3 b: cdefg'))\nExpecting:\n    False\nok\nTrying:\n    password_conforms_to_rule_official(*parse_line('2-9 c: ccccccccc'))\nExpecting:\n    False\nok\n"
     ]
    }
   ],
   "source": [
    "doctest.run_docstring_examples(parse_line, globs=None, verbose=True)\n",
    "doctest.run_docstring_examples(password_conforms_to_rule_initial, globs=None, verbose=True)\n",
    "doctest.run_docstring_examples(password_conforms_to_rule_official, globs=None, verbose=True)"
   ]
  },
  {
   "cell_type": "code",
   "execution_count": 71,
   "metadata": {},
   "outputs": [
    {
     "output_type": "stream",
     "name": "stdout",
     "text": [
      "Part 1:  445\nPart 2:  491\n"
     ]
    }
   ],
   "source": [
    "# Final answers\n",
    "with open('day2.txt') as f:\n",
    "    parsed_rules = [parse_line(l.strip()) for l in f]\n",
    "    print('Part 1: ', len([l for l in parsed_rules if password_conforms_to_rule_initial(*l)]))\n",
    "    print('Part 2: ', len([l for l in parsed_rules if password_conforms_to_rule_official(*l)]))\n"
   ]
  },
  {
   "cell_type": "code",
   "execution_count": null,
   "metadata": {},
   "outputs": [],
   "source": []
  }
 ]
}