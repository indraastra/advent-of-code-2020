{
 "metadata": {
  "language_info": {
   "codemirror_mode": {
    "name": "ipython",
    "version": 3
   },
   "file_extension": ".py",
   "mimetype": "text/x-python",
   "name": "python",
   "nbconvert_exporter": "python",
   "pygments_lexer": "ipython3",
   "version": "3.8.3-final"
  },
  "orig_nbformat": 2,
  "kernelspec": {
   "name": "python3",
   "display_name": "Python 3.8.3 64-bit ('aoc': conda)",
   "metadata": {
    "interpreter": {
     "hash": "91ecdc0959f669be397eefd8d918e676da99a58414a8579254f71bfed9ab338a"
    }
   }
  }
 },
 "nbformat": 4,
 "nbformat_minor": 2,
 "cells": [
  {
   "source": [
    "# Common imports & library functions"
   ],
   "cell_type": "markdown",
   "metadata": {}
  },
  {
   "cell_type": "code",
   "execution_count": 1,
   "metadata": {},
   "outputs": [],
   "source": [
    "import collections\n",
    "from collections import Counter\n",
    "from dataclasses import dataclass\n",
    "import doctest\n",
    "import functools\n",
    "import itertools\n",
    "import math\n",
    "import re\n",
    "from utils import product"
   ]
  },
  {
   "source": [
    "# Day 1: Report Repair"
   ],
   "cell_type": "markdown",
   "metadata": {}
  },
  {
   "cell_type": "code",
   "execution_count": 59,
   "metadata": {},
   "outputs": [],
   "source": [
    "def pick_numbers_that_sum_to(ns, pick_n, target):\n",
    "    \"\"\"\n",
    "    Returns first `pick_n` numbers in `ns` to sum to `target`.\n",
    "    >>> pick_numbers_that_sum_to([1, 9, 11, 3], 2, 12)\n",
    "    (1, 11)\n",
    "    >>> pick_numbers_that_sum_to([1721, 979, 366, 299, 675, 1456], 2, 2020)\n",
    "    (1721, 299)\n",
    "    >>> pick_numbers_that_sum_to([1721, 979, 366, 299, 675, 1456], 3, 2020)\n",
    "    (979, 366, 675)\n",
    "    \"\"\"\n",
    "    ns = [n for n in ns if n < target]\n",
    "    return next(p for p in itertools.product(*[ns]*pick_n) if sum(p) == target)"
   ]
  },
  {
   "cell_type": "code",
   "execution_count": 41,
   "metadata": {},
   "outputs": [
    {
     "output_type": "stream",
     "name": "stdout",
     "text": [
      "Finding tests in NoName\nTrying:\n    pick_numbers_that_sum_to([1, 9, 11, 3], 2, 12)\nExpecting:\n    (1, 11)\nok\nTrying:\n    pick_numbers_that_sum_to([1721, 979, 366, 299, 675, 1456], 2, 2020)\nExpecting:\n    (1721, 299)\nok\nTrying:\n    pick_numbers_that_sum_to([1721, 979, 366, 299, 675, 1456], 3, 2020)\nExpecting:\n    (979, 366, 675)\nok\n"
     ]
    }
   ],
   "source": [
    "doctest.run_docstring_examples(pick_numbers_that_sum_to, globs=None, verbose=True)"
   ]
  },
  {
   "cell_type": "code",
   "execution_count": 46,
   "metadata": {},
   "outputs": [
    {
     "output_type": "stream",
     "name": "stdout",
     "text": [
      "Part 1:  876459\n",
      "Part 2:  116168640\n"
     ]
    }
   ],
   "source": [
    "# Final answers\n",
    "with open('day1.txt') as f:\n",
    "    ns = [int(l.strip()) for l in f]\n",
    "    print('Part 1: ', product(pick_numbers_that_sum_to(ns, 2, 2020)))\n",
    "    print('Part 2: ', product(pick_numbers_that_sum_to(ns, 3, 2020)))"
   ]
  },
  {
   "cell_type": "code",
   "execution_count": 19,
   "metadata": {},
   "outputs": [
    {
     "output_type": "execute_result",
     "data": {
      "text/plain": [
       "7"
      ]
     },
     "metadata": {},
     "execution_count": 19
    }
   ],
   "source": [
    "len([n for n in ns if n + 35 > 2020])"
   ]
  },
  {
   "source": [
    "# Day 2: Password Philosophy"
   ],
   "cell_type": "markdown",
   "metadata": {}
  },
  {
   "cell_type": "code",
   "execution_count": 77,
   "metadata": {},
   "outputs": [],
   "source": [
    "from dataclasses import dataclass\n",
    "import re\n",
    "\n",
    "line_re = re.compile(r'(\\d+)-(\\d+) (\\w): (\\w+)')\n",
    "\n",
    "def parse_line(line):\n",
    "    \"\"\"\n",
    "    >>> parse_line('1-3 a: abcde')\n",
    "    ((1, 3, 'a'), 'abcde')\n",
    "    \"\"\"\n",
    "    lo, hi, el, pw = line_re.match(line).groups()\n",
    "    return ((int(lo), int(hi), el), pw)\n",
    "\n",
    "def password_conforms_to_rule_original(rule, password):\n",
    "    \"\"\"\n",
    "    >>> password_conforms_to_rule_original(*parse_line('1-3 a: abcde'))\n",
    "    True\n",
    "    >>> password_conforms_to_rule_original(*parse_line('1-3 b: cdefg'))\n",
    "    False\n",
    "    >>> password_conforms_to_rule_original(*parse_line('2-9 c: ccccccccc'))\n",
    "    True\n",
    "    \"\"\"\n",
    "    counts = collections.Counter(password)\n",
    "    lo, hi, el = rule\n",
    "    return lo <= counts.get(el, 0) <= hi\n",
    "\n",
    "def password_conforms_to_rule_official(rule, password):\n",
    "    \"\"\"\n",
    "    >>> password_conforms_to_rule_official(*parse_line('1-3 a: abcde'))\n",
    "    True\n",
    "    >>> password_conforms_to_rule_official(*parse_line('1-3 b: cdefg'))\n",
    "    False\n",
    "    >>> password_conforms_to_rule_official(*parse_line('2-9 c: ccccccccc'))\n",
    "    False\n",
    "    \"\"\"\n",
    "    lo, hi, el = rule\n",
    "    return (password[lo-1] == el) ^ (password[hi-1] == el)"
   ]
  },
  {
   "cell_type": "code",
   "execution_count": 78,
   "metadata": {},
   "outputs": [
    {
     "output_type": "stream",
     "name": "stdout",
     "text": [
      "Finding tests in NoName\nTrying:\n    parse_line('1-3 a: abcde')\nExpecting:\n    ((1, 3, 'a'), 'abcde')\nok\nFinding tests in NoName\nTrying:\n    password_conforms_to_rule_original(*parse_line('1-3 a: abcde'))\nExpecting:\n    True\nok\nTrying:\n    password_conforms_to_rule_original(*parse_line('1-3 b: cdefg'))\nExpecting:\n    False\nok\nTrying:\n    password_conforms_to_rule_original(*parse_line('2-9 c: ccccccccc'))\nExpecting:\n    True\nok\nFinding tests in NoName\nTrying:\n    password_conforms_to_rule_official(*parse_line('1-3 a: abcde'))\nExpecting:\n    True\nok\nTrying:\n    password_conforms_to_rule_official(*parse_line('1-3 b: cdefg'))\nExpecting:\n    False\nok\nTrying:\n    password_conforms_to_rule_official(*parse_line('2-9 c: ccccccccc'))\nExpecting:\n    False\nok\n"
     ]
    }
   ],
   "source": [
    "doctest.run_docstring_examples(parse_line, globs=None, verbose=True)\n",
    "doctest.run_docstring_examples(password_conforms_to_rule_original, globs=None, verbose=True)\n",
    "doctest.run_docstring_examples(password_conforms_to_rule_official, globs=None, verbose=True)"
   ]
  },
  {
   "cell_type": "code",
   "execution_count": 79,
   "metadata": {},
   "outputs": [
    {
     "output_type": "stream",
     "name": "stdout",
     "text": [
      "Part 1:  445\nPart 2:  491\n"
     ]
    }
   ],
   "source": [
    "# Final answers\n",
    "with open('day2.txt') as f:\n",
    "    rules_and_pws = [parse_line(l.strip()) for l in f]\n",
    "    original_pws = [l for l in rules_and_pws if password_conforms_to_rule_original(*l)]\n",
    "    official_pws = [l for l in rules_and_pws if password_conforms_to_rule_official(*l)]\n",
    "    print('Part 1: ', len(original_pws))\n",
    "    print('Part 2: ', len(official_pws))"
   ]
  },
  {
   "source": [
    "# Day 3: Toboggan Trajectory"
   ],
   "cell_type": "markdown",
   "metadata": {}
  },
  {
   "cell_type": "code",
   "execution_count": 56,
   "metadata": {},
   "outputs": [],
   "source": [
    "from itertools import count\n",
    "\n",
    "TREE = '#'\n",
    "\n",
    "@dataclass\n",
    "class Map:\n",
    "    map: str\n",
    "    w: int\n",
    "    h: int\n",
    "\n",
    "    def at(self, x, y):\n",
    "        return self.map[(self.w + 1) * (y % self.h) + (x % self.w)]\n",
    "\n",
    "def parse_map(map):\n",
    "    clean_map = map.strip().replace('\\n', '|')\n",
    "    h = clean_map.count('|') + 1\n",
    "    w = clean_map.index('|')\n",
    "    return Map(map=clean_map, h=h, w=w)\n",
    "\n",
    "def num_trees_hit(dx, dy, map):\n",
    "    hits = 0\n",
    "    for x, y in zip(count(0, dx), range(0, map.h, dy)):\n",
    "        if map.at(x, y) == TREE:\n",
    "            hits += 1\n",
    "    return hits"
   ]
  },
  {
   "cell_type": "code",
   "execution_count": 57,
   "metadata": {},
   "outputs": [],
   "source": [
    "test_map = parse_map(\"\"\"\n",
    "..##.......\n",
    "#...#...#..\n",
    ".#....#..#.\n",
    "..#.#...#.#\n",
    ".#...##..#.\n",
    "..#.##.....\n",
    ".#.#.#....#\n",
    ".#........#\n",
    "#.##...#...\n",
    "#...##....#\n",
    ".#..#...#.#\n",
    "\"\"\")\n",
    "assert num_trees_hit(dx=3, dy=1, map=test_map) == 7, 'test failed'"
   ]
  },
  {
   "cell_type": "code",
   "execution_count": 60,
   "metadata": {},
   "outputs": [
    {
     "output_type": "stream",
     "name": "stdout",
     "text": [
      "Part 1:  151\nPart 2:  7540141059\n"
     ]
    }
   ],
   "source": [
    "# Final answers\n",
    "with open('day3.txt') as f:\n",
    "    map = parse_map(f.read())\n",
    "    print('Part 1: ', num_trees_hit(dx=3, dy=1, map=map))\n",
    "    product_of_trees_hit = product(num_trees_hit(dx, dy, map)\n",
    "                                   for dx, dy in ((1, 1), (3, 1), (5, 1), (7, 1), (1, 2)))\n",
    "    print('Part 2: ', product_of_trees_hit)"
   ]
  },
  {
   "source": [
    "# Day 4: Passport Processing"
   ],
   "cell_type": "markdown",
   "metadata": {}
  },
  {
   "cell_type": "code",
   "execution_count": 147,
   "metadata": {},
   "outputs": [],
   "source": [
    "from typing import Optional\n",
    "\n",
    "def parse_passport(passport):\n",
    "    r\"\"\"\n",
    "    >>> parse_passport(\"pid:100\")\n",
    "    {'pid': '100'}\n",
    "    >>> parse_passport(\"ecl:gry  pid:860033327 eyr:2020 hcl:#fffffd\\nbyr:1937 iyr:2017 cid:147 hgt:183cm\")\n",
    "    {'ecl': 'gry', 'pid': '860033327', 'eyr': '2020', 'hcl': '#fffffd', 'byr': '1937', 'iyr': '2017', 'cid': '147', 'hgt': '183cm'}\n",
    "    \"\"\"\n",
    "    return dict(p.split(':') for p in re.split('\\s+', passport) if p)\n",
    "\n",
    "def validate_fields_part1(byr, iyr, eyr, hgt, hcl, ecl, pid, cid=None):\n",
    "    return True\n",
    "\n",
    "def validate_fields_part2(byr, iyr, eyr, hgt, hcl, ecl, pid, cid=None):\n",
    "    \"\"\"\n",
    "    >>> validate_fields_part2(byr='-1990', iyr='2010', eyr='2020', hgt='155cm', hcl='#fffffd', ecl='amb', pid='860033327')\n",
    "    False\n",
    "    >>> validate_fields_part2(byr='1980', iyr='2010', eyr='2020', hgt='155cm', hcl='#ffd', ecl='amb', pid='860033327')\n",
    "    False\n",
    "    >>> validate_fields_part2(byr='1980', iyr='2010', eyr='2020', hgt='155cm', hcl='#fffffd', ecl='amb', pid='860033327')\n",
    "    True\n",
    "    \"\"\"\n",
    "    if not (1920 <= int(byr) <= 2002):\n",
    "        return False\n",
    "    if not (2010 <= int(iyr) <= 2020):\n",
    "        return False\n",
    "    if not (2020 <= int(eyr) <= 2030):\n",
    "        return False \n",
    "    if hgt.endswith('cm'):\n",
    "        if not (150 <= int(hgt[:-2]) <= 193):\n",
    "            return False\n",
    "    elif hgt.endswith('in'):\n",
    "        if not (59 <= int(hgt[:-2]) <= 76):\n",
    "            return False\n",
    "    else:\n",
    "        return False\n",
    "    if not re.match('^#[0-9a-f]{6}$', hcl):\n",
    "        return False\n",
    "    if ecl not in {'amb', 'blu', 'brn', 'gry', 'grn', 'hzl', 'oth'}:\n",
    "        return False\n",
    "    if len(pid) != 9 or not int(pid):\n",
    "        return False\n",
    "    return True\n",
    "\n",
    "\n",
    "def is_valid_passport(passport, validator):\n",
    "    r\"\"\"\n",
    "    >>> is_valid_passport(\"\", validator=validate_fields_part1)\n",
    "    False\n",
    "    >>> is_valid_passport(\"iyr:2019 \"\n",
    "    ...                   \"hcl:#602927 eyr:1967 hgt:170cm \"\n",
    "    ...                   \"ecl:grn pid:012533040 byr:1946\",\n",
    "    ...                   validator=validate_fields_part1)\n",
    "    True\n",
    "    >>> is_valid_passport(\"ecl:gry pid:860033327 eyr:2020 hcl:#fffffd byr:1937 iyr:2017 hgt:183cm\",\n",
    "    ...                   validator=validate_fields_part1)\n",
    "    True\n",
    "    >>> is_valid_passport(\"ecl:gry pid:860033327 eyr:2020 hcl:#fffffd byr:1900 iyr:2017 hgt:183cm\",\n",
    "    ...                   validator=validate_fields_part2)\n",
    "    False\n",
    "    >>> is_valid_passport(\"iyr:2019 \"\n",
    "    ...                   \"hcl:#602927 eyr:1967 hgt:170cm \"\n",
    "    ...                   \"ecl:grn pid:012533040 byr:1946\",\n",
    "    ...                   validator=validate_fields_part2)\n",
    "    False\n",
    "    \"\"\"\n",
    "    try:\n",
    "        return validator(**parse_passport(passport))\n",
    "    except:\n",
    "        return False\n",
    "\n",
    "def count_valid_passports(ps, validator):\n",
    "    return sum(1 if is_valid_passport(p, validator) else 0 for p in ps)"
   ]
  },
  {
   "cell_type": "code",
   "execution_count": 148,
   "metadata": {},
   "outputs": [
    {
     "output_type": "stream",
     "name": "stdout",
     "text": [
      "Finding tests in NoName\nTrying:\n    parse_passport(\"pid:100\")\nExpecting:\n    {'pid': '100'}\nok\nTrying:\n    parse_passport(\"ecl:gry  pid:860033327 eyr:2020 hcl:#fffffd\\nbyr:1937 iyr:2017 cid:147 hgt:183cm\")\nExpecting:\n    {'ecl': 'gry', 'pid': '860033327', 'eyr': '2020', 'hcl': '#fffffd', 'byr': '1937', 'iyr': '2017', 'cid': '147', 'hgt': '183cm'}\nok\nFinding tests in NoName\nTrying:\n    validate_fields_part2(byr='-1990', iyr='2010', eyr='2020', hgt='155cm', hcl='#fffffd', ecl='amb', pid='860033327')\nExpecting:\n    False\nok\nTrying:\n    validate_fields_part2(byr='1980', iyr='2010', eyr='2020', hgt='155cm', hcl='#ffd', ecl='amb', pid='860033327')\nExpecting:\n    False\nok\nTrying:\n    validate_fields_part2(byr='1980', iyr='2010', eyr='2020', hgt='155cm', hcl='#fffffd', ecl='amb', pid='860033327')\nExpecting:\n    True\nok\nFinding tests in NoName\nTrying:\n    is_valid_passport(\"\", validator=validate_fields_part1)\nExpecting:\n    False\nok\nTrying:\n    is_valid_passport(\"iyr:2019 \"\n                      \"hcl:#602927 eyr:1967 hgt:170cm \"\n                      \"ecl:grn pid:012533040 byr:1946\",\n                      validator=validate_fields_part1)\nExpecting:\n    True\nok\nTrying:\n    is_valid_passport(\"ecl:gry pid:860033327 eyr:2020 hcl:#fffffd byr:1937 iyr:2017 hgt:183cm\",\n                      validator=validate_fields_part1)\nExpecting:\n    True\nok\nTrying:\n    is_valid_passport(\"ecl:gry pid:860033327 eyr:2020 hcl:#fffffd byr:1900 iyr:2017 hgt:183cm\",\n                      validator=validate_fields_part2)\nExpecting:\n    False\nok\nTrying:\n    is_valid_passport(\"iyr:2019 \"\n                      \"hcl:#602927 eyr:1967 hgt:170cm \"\n                      \"ecl:grn pid:012533040 byr:1946\",\n                      validator=validate_fields_part2)\nExpecting:\n    False\nok\n"
     ]
    }
   ],
   "source": [
    "doctest.run_docstring_examples(parse_passport, globs=None, verbose=True)\n",
    "doctest.run_docstring_examples(validate_fields_part2, globs=None, verbose=True)\n",
    "doctest.run_docstring_examples(is_valid_passport, globs=None, verbose=True)"
   ]
  },
  {
   "cell_type": "code",
   "execution_count": 130,
   "metadata": {},
   "outputs": [
    {
     "output_type": "stream",
     "name": "stdout",
     "text": [
      "Part 1:  254\nPart 2:  184\n"
     ]
    }
   ],
   "source": [
    "# Final answers\n",
    "with open('day4.txt') as f:\n",
    "    passports = f.read().split('\\n\\n')\n",
    "    print('Part 1: ', count_valid_passports(passports, validator=validate_fields_part1))\n",
    "    print('Part 2: ', count_valid_passports(passports, validator=validate_fields_part2))"
   ]
  },
  {
   "source": [
    "# Day 5: Binary Boarding"
   ],
   "cell_type": "markdown",
   "metadata": {}
  },
  {
   "cell_type": "code",
   "execution_count": 218,
   "metadata": {},
   "outputs": [],
   "source": [
    "_seat_to_id = str.maketrans('FLBR', '0011')\n",
    "_row_id_to_seat = str.maketrans('01', 'FB')\n",
    "_col_id_to_seat = str.maketrans('01', 'LR')\n",
    "\n",
    "def decode_seat_id(seat_code):\n",
    "    \"\"\"\n",
    "    >>> decode_seat_id('BFFFBBFRRR')\n",
    "    567\n",
    "    >>> decode_seat_id('FFFBBBFRRR')\n",
    "    119\n",
    "    >>> decode_seat_id('BBFFBBFRLL')\n",
    "    820\n",
    "    \"\"\"\n",
    "    return int(seat_code.translate(_seat_to_id), base=2)\n",
    "\n",
    "def encode_seat_id(seat_id):\n",
    "    \"\"\"\n",
    "    >>> encode_seat_id(567)\n",
    "    'BFFFBBFRRR'\n",
    "    >>> encode_seat_id(119)\n",
    "    'FFFBBBFRRR'\n",
    "    >>> encode_seat_id(820)\n",
    "    'BBFFBBFRLL'\n",
    "    \"\"\"\n",
    "    code = f'{seat_id:010b}'\n",
    "    row = code[:-3].translate(_row_id_to_seat)\n",
    "    col = code[-3:].translate(_col_id_to_seat)\n",
    "    return row + col\n",
    "\n",
    "def find_missing_seat(seat_codes):\n",
    "    seat_ids = {decode_seat_id(c) for c in seat_codes}\n",
    "    for sid in seat_ids:\n",
    "        if sid + 1 not in seat_ids and sid + 2 in seat_ids:\n",
    "            return sid + 1, encode_seat_id(sid + 1)"
   ]
  },
  {
   "cell_type": "code",
   "execution_count": 219,
   "metadata": {},
   "outputs": [
    {
     "output_type": "stream",
     "name": "stdout",
     "text": [
      "Finding tests in NoName\nTrying:\n    decode_seat_id('BFFFBBFRRR')\nExpecting:\n    567\nok\nTrying:\n    decode_seat_id('FFFBBBFRRR')\nExpecting:\n    119\nok\nTrying:\n    decode_seat_id('BBFFBBFRLL')\nExpecting:\n    820\nok\nFinding tests in NoName\nTrying:\n    encode_seat_id(567)\nExpecting:\n    'BFFFBBFRRR'\nok\nTrying:\n    encode_seat_id(119)\nExpecting:\n    'FFFBBBFRRR'\nok\nTrying:\n    encode_seat_id(820)\nExpecting:\n    'BBFFBBFRLL'\nok\n"
     ]
    }
   ],
   "source": [
    "doctest.run_docstring_examples(decode_seat_id, globs=None, verbose=True)\n",
    "doctest.run_docstring_examples(encode_seat_id, globs=None, verbose=True)"
   ]
  },
  {
   "cell_type": "code",
   "execution_count": 220,
   "metadata": {},
   "outputs": [
    {
     "output_type": "stream",
     "name": "stdout",
     "text": [
      "Part 1:  991\n",
      "Part 2:  (534, 'BFFFFBFRRL')\n"
     ]
    }
   ],
   "source": [
    "# Final answers\n",
    "with open('day5.txt') as f:\n",
    "    seat_codes = {l.strip() for l in f}\n",
    "    print('Part 1: ', max(decode_seat_id(c) for c in seat_codes))\n",
    "    print('Part 2: ', find_missing_seat(seat_codes))"
   ]
  }
 ]
}