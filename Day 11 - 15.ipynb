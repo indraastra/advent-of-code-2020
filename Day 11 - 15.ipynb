{
 "metadata": {
  "language_info": {
   "codemirror_mode": {
    "name": "ipython",
    "version": 3
   },
   "file_extension": ".py",
   "mimetype": "text/x-python",
   "name": "python",
   "nbconvert_exporter": "python",
   "pygments_lexer": "ipython3",
   "version": "3.8.3-final"
  },
  "orig_nbformat": 2,
  "kernelspec": {
   "name": "python3",
   "display_name": "Python 3.8.3 64-bit ('aoc': conda)",
   "metadata": {
    "interpreter": {
     "hash": "91ecdc0959f669be397eefd8d918e676da99a58414a8579254f71bfed9ab338a"
    }
   }
  }
 },
 "nbformat": 4,
 "nbformat_minor": 2,
 "cells": [
  {
   "source": [
    "# Common imports & library functions"
   ],
   "cell_type": "markdown",
   "metadata": {}
  },
  {
   "cell_type": "code",
   "execution_count": 8,
   "metadata": {},
   "outputs": [],
   "source": [
    "import collections\n",
    "from collections import defaultdict, Counter\n",
    "from dataclasses import dataclass\n",
    "import doctest\n",
    "import functools\n",
    "import itertools\n",
    "from itertools import count\n",
    "import math\n",
    "import re\n",
    "from copy import deepcopy"
   ]
  },
  {
   "source": [
    "# Day 11: Seating System"
   ],
   "cell_type": "markdown",
   "metadata": {}
  },
  {
   "cell_type": "code",
   "execution_count": 7,
   "metadata": {},
   "outputs": [],
   "source": [
    "def _floors(n):\n",
    "    return ['.'] * n\n",
    "\n",
    "class SeatLayout:\n",
    "    def __init__(self, initial_state, neighbor_threshold=4):\n",
    "        self._neighbor_threshold = neighbor_threshold\n",
    "        initial_state = initial_state.strip().replace(' ', '')\n",
    "        cells = [list(row.strip()) for row in initial_state.split()]\n",
    "        w = len(cells[0])\n",
    "        self._cells = ([_floors(w + 2)] +\n",
    "                       [_floors(1) + row + _floors(1) for row in cells] +\n",
    "                       [_floors(w + 2)])\n",
    "\n",
    "    def at(self, x, y):\n",
    "        return self._cells[y+1][x+1]\n",
    "\n",
    "    def set(self, x, y, state):\n",
    "        self._cells[y+1][x+1] = state\n",
    "\n",
    "    def cells(self):\n",
    "        for y in range(1, len(self._cells) - 1):\n",
    "            for x in range(1, len(self._cells[0]) - 1):\n",
    "                yield (x - 1, y - 1, self._cells[y][x])\n",
    "\n",
    "    def neighbors(self, x, y):\n",
    "        for dx in (-1, 0, 1):\n",
    "            for dy in (-1, 0, 1):\n",
    "                if dx == 0 and dy == 0: continue\n",
    "                yield self.at(x+dx, y+dy)\n",
    "\n",
    "    def update(self):\n",
    "        prev_layout = deepcopy(self)\n",
    "        updated = False\n",
    "        for x, y, cell in prev_layout.cells():\n",
    "            neighbors = list(prev_layout.neighbors(x, y))\n",
    "            if (cell == 'L' and not any(n == '#' for n in neighbors)):\n",
    "                self.set(x, y, '#')\n",
    "                updated = True\n",
    "            elif (cell == '#' and neighbors.count('#') >= self._neighbor_threshold):\n",
    "                self.set(x, y, 'L')\n",
    "                updated = True\n",
    "        return updated\n",
    "\n",
    "    def num_occupied(self):\n",
    "        return sum(r.count('#') for r in self._cells)\n",
    "\n",
    "    def __str__(self):\n",
    "        return '\\n'.join(''.join(r) for r in self._cells)\n",
    "\n",
    "class SeatLayout2(SeatLayout):\n",
    "    def __init__(self, initial_state, neighbor_threshold=5):\n",
    "        super().__init__(initial_state, neighbor_threshold)\n",
    "\n",
    "    def within_grid(self, x, y):\n",
    "        return 0 <= y < len(self._cells) - 1 and 0 <= x < len(self._cells[0]) - 1\n",
    "\n",
    "    def neighbors(self, x, y):\n",
    "        for dx in (-1, 0, 1):\n",
    "            for dy in (-1, 0, 1):\n",
    "                if dx == 0 and dy == 0: continue\n",
    "                for xp, yp in zip(count(x+dx, dx), count(y+dy, dy)):\n",
    "                    if not self.within_grid(xp, yp):\n",
    "                        break\n",
    "                    if (cell := self.at(xp, yp)) != '.':\n",
    "                        yield cell\n",
    "                        break\n",
    "\n",
    "def simulate_until_equilibrium(layout):\n",
    "    while layout.update():\n",
    "        continue\n",
    "    return layout.num_occupied()"
   ]
  },
  {
   "cell_type": "code",
   "execution_count": 8,
   "metadata": {
    "tags": []
   },
   "outputs": [],
   "source": [
    "test_layout = \"\"\"\n",
    "L.LL.LL.LL\n",
    "LLLLLLL.LL\n",
    "L.L.L..L..\n",
    "LLLL.LL.LL\n",
    "L.LL.LL.LL\n",
    "L.LLLLL.LL\n",
    "..L.L.....\n",
    "LLLLLLLLLL\n",
    "L.LLLLLL.L\n",
    "L.LLLLL.LL\n",
    "\"\"\"\n",
    "\n",
    "assert simulate_until_equilibrium(SeatLayout(test_layout)) == 37\n",
    "assert simulate_until_equilibrium(SeatLayout2(test_layout)) == 26"
   ]
  },
  {
   "cell_type": "code",
   "execution_count": 57,
   "metadata": {},
   "outputs": [
    {
     "output_type": "stream",
     "name": "stdout",
     "text": [
      "Part 1:  2418\n",
      "Part 2:  2144\n"
     ]
    }
   ],
   "source": [
    "# Final answers\n",
    "with open('day11.txt') as f:\n",
    "    initial_state = f.read()\n",
    "    print('Part 1: ', simulate_until_equilibrium(SeatLayout(initial_state)))\n",
    "    print('Part 2: ', simulate_until_equilibrium(SeatLayout2(initial_state)))"
   ]
  },
  {
   "source": [
    "# Day 12: Rain Risk"
   ],
   "cell_type": "markdown",
   "metadata": {}
  },
  {
   "cell_type": "code",
   "execution_count": 6,
   "metadata": {},
   "outputs": [],
   "source": [
    "import math\n",
    "\n",
    "def move_along_angle(x, y, distance, heading):\n",
    "    \"\"\"\n",
    "    >>> move_along_angle(0, 0, 10, 90)\n",
    "    (0, 10)\n",
    "    >>> move_along_angle(4, 1 + 3 * math.sqrt(3), 6, 240)\n",
    "    (1, 1)\n",
    "    \"\"\"\n",
    "    angle = math.radians(heading)\n",
    "    x += distance * math.cos(angle)\n",
    "    y += distance * math.sin(angle)\n",
    "    return int(round(x)), int(round(y))\n",
    "\n",
    "def parse_actions(actions):\n",
    "    for action in actions.strip().split():\n",
    "        action = action.strip()\n",
    "        yield action[0], int(action[1:])\n",
    "\n",
    "def move(actions, start_pos=(0, 0)):\n",
    "    \"\"\"\n",
    "    >>> move('''\n",
    "    ...     F10\n",
    "    ...     N3\n",
    "    ...     F7\n",
    "    ...     R90\n",
    "    ...     F11\n",
    "    ... ''')\n",
    "    (17, -8)\n",
    "    \"\"\"\n",
    "    x, y = start_pos\n",
    "    heading = 0  # degrees\n",
    "    for action, amount in parse_actions(actions):\n",
    "        if action == 'N':\n",
    "            y += amount\n",
    "        elif action == 'S':\n",
    "            y -= amount\n",
    "        elif action == 'E':\n",
    "            x += amount\n",
    "        elif action == 'W':\n",
    "            x -= amount\n",
    "        elif action == 'L':\n",
    "            heading = (heading + amount) % 360\n",
    "        elif action == 'R':\n",
    "            heading = (heading - amount) % 360\n",
    "        elif action == 'F':\n",
    "            x, y = move_along_angle(x, y, amount, heading)\n",
    "    return x, y"
   ]
  },
  {
   "cell_type": "code",
   "execution_count": 7,
   "metadata": {},
   "outputs": [
    {
     "output_type": "stream",
     "name": "stdout",
     "text": [
      "Finding tests in NoName\nTrying:\n    move_along_angle(0, 0, 10, 90)\nExpecting:\n    (0, 10)\nok\nTrying:\n    move_along_angle(4, 1 + 3 * math.sqrt(3), 6, 240)\nExpecting:\n    (1, 1)\nok\nFinding tests in NoName\nTrying:\n    move('''\n        F10\n        N3\n        F7\n        R90\n        F11\n    ''')\nExpecting:\n    (17, -8)\nok\n"
     ]
    }
   ],
   "source": [
    "doctest.run_docstring_examples(move_along_angle, globs=None, verbose=True)\n",
    "doctest.run_docstring_examples(move, globs=None, verbose=True)"
   ]
  },
  {
   "cell_type": "code",
   "execution_count": 8,
   "metadata": {},
   "outputs": [],
   "source": [
    "def rotate(x, y, angle):\n",
    "    \"\"\"\n",
    "    >>> rotate(10, 4, -90)\n",
    "    (4, -10)\n",
    "    \"\"\"\n",
    "    angle = math.radians(angle)\n",
    "    xp = x * math.cos(angle) - y * math.sin(angle)\n",
    "    yp = x * math.sin(angle) + y * math.cos(angle)\n",
    "    return int(round(xp)), int(round(yp))\n",
    "\n",
    "def move_waypoint(actions, start_pos=(10, 1)):\n",
    "    \"\"\"\n",
    "    >>> move_waypoint('''\n",
    "    ...     F10\n",
    "    ...     N3\n",
    "    ...     F7\n",
    "    ...     R90\n",
    "    ...     F11\n",
    "    ... ''')\n",
    "    (214, -72)\n",
    "    \"\"\"\n",
    "    sx, sy = 0, 0\n",
    "    wx, wy = start_pos\n",
    "    heading = 0  # degrees\n",
    "    for action, amount in parse_actions(actions):\n",
    "        if action == 'N':\n",
    "            wy += amount\n",
    "        elif action == 'S':\n",
    "            wy -= amount\n",
    "        elif action == 'E':\n",
    "            wx += amount\n",
    "        elif action == 'W':\n",
    "            wx -= amount\n",
    "        elif action == 'L':\n",
    "            wx, wy = rotate(wx, wy, amount)\n",
    "            heading = (heading + amount) % 360\n",
    "        elif action == 'R':\n",
    "            wx, wy = rotate(wx, wy, -amount)\n",
    "            heading = (heading - amount) % 360\n",
    "        elif action == 'F':\n",
    "            sx += wx * amount\n",
    "            sy += wy * amount\n",
    "    return sx, sy"
   ]
  },
  {
   "cell_type": "code",
   "execution_count": 9,
   "metadata": {},
   "outputs": [
    {
     "output_type": "stream",
     "name": "stdout",
     "text": [
      "Finding tests in NoName\nTrying:\n    rotate(10, 4, -90)\nExpecting:\n    (4, -10)\nok\nFinding tests in NoName\nTrying:\n    move_waypoint('''\n        F10\n        N3\n        F7\n        R90\n        F11\n    ''')\nExpecting:\n    (214, -72)\nok\n"
     ]
    }
   ],
   "source": [
    "doctest.run_docstring_examples(rotate, globs=None, verbose=True)\n",
    "doctest.run_docstring_examples(move_waypoint, globs=None, verbose=True)"
   ]
  },
  {
   "cell_type": "code",
   "execution_count": 10,
   "metadata": {},
   "outputs": [
    {
     "output_type": "stream",
     "name": "stdout",
     "text": [
      "Part 1:  1106\nPart 2:  107281\n"
     ]
    }
   ],
   "source": [
    "# Final answers\n",
    "with open('day12.txt') as f:\n",
    "    actions = f.read()\n",
    "    print('Part 1: ', sum(abs(c) for c in move(actions)))\n",
    "    print('Part 2: ', sum(abs(c) for c in move_waypoint(actions)))"
   ]
  },
  {
   "source": [
    "# Day 13: Shuttle Search"
   ],
   "cell_type": "markdown",
   "metadata": {}
  },
  {
   "cell_type": "code",
   "execution_count": 188,
   "metadata": {},
   "outputs": [],
   "source": [
    "def parse_schedule(text):\n",
    "    \"\"\"\n",
    "    >>> parse_schedule('123\\\\nx,x,1,2,100,x')\n",
    "    (123, ['x', 'x', 1, 2, 100, 'x'])\n",
    "    \"\"\"\n",
    "    departure_ts, bus_ids = text.strip().split()\n",
    "    departure_ts = int(departure_ts)\n",
    "    bus_ids = [bus_id if is_wildcard(bus_id) else int(bus_id) for bus_id in bus_ids.split(',')]\n",
    "    return departure_ts, bus_ids\n",
    "\n",
    "def is_wildcard(bus_id):\n",
    "    return bus_id == 'x'\n",
    "\n",
    "def best_bus(ts, bus_ids):\n",
    "    \"\"\"\n",
    "    >>> best_bus(939, [7, 13, 59, 'x', 31, 19])\n",
    "    (59, 5)\n",
    "    >>> best_bus(939, [7, 13, 59, 31, 19, 939])\n",
    "    (939, 0)\n",
    "    \"\"\"\n",
    "    bus_ids = [bus_id for bus_id in bus_ids if not is_wildcard(bus_id)]\n",
    "    wait_time = lambda bus_id: (bus_id - (ts % bus_id)) % ts\n",
    "    bus_id = min(bus_ids, key=wait_time)\n",
    "    return bus_id, wait_time(bus_id)"
   ]
  },
  {
   "cell_type": "code",
   "execution_count": 183,
   "metadata": {},
   "outputs": [
    {
     "output_type": "stream",
     "name": "stdout",
     "text": [
      "Finding tests in NoName\nTrying:\n    parse_schedule('123\\nx,x,1,2,100,x')\nExpecting:\n    (123, ['x', 'x', 1, 2, 100, 'x'])\nok\nFinding tests in NoName\nTrying:\n    best_bus(939, [7, 13, 59, 'x', 31, 19])\nExpecting:\n    (59, 5)\nok\nTrying:\n    best_bus(939, [7, 13, 59, 31, 19, 939])\nExpecting:\n    (939, 0)\nok\n"
     ]
    }
   ],
   "source": [
    "doctest.run_docstring_examples(parse_schedule, globs=None, verbose=True)\n",
    "doctest.run_docstring_examples(best_bus, globs=None, verbose=True)"
   ]
  },
  {
   "cell_type": "code",
   "execution_count": 184,
   "metadata": {},
   "outputs": [],
   "source": [
    "# Abandoned: too slow!\n",
    "def divides(m, n):\n",
    "    return n % m == 0\n",
    "\n",
    "def make_factors(bus_ids):\n",
    "    return {bus_id: i \n",
    "            for i, bus_id in enumerate(bus_ids) if not is_wildcard(bus_id)}\n",
    "\n",
    "def is_solution(ts, factors, base_delta=0):\n",
    "    return all(divides(f, ts + delta - base_delta) for f, delta in factors.items())\n",
    "\n",
    "def earliest_timestamp(bus_ids, start=None):\n",
    "    \"\"\"\n",
    "    >>> earliest_timestamp([7, 13, 'x', 'x', 59, 'x', 31, 19])\n",
    "    1068781\n",
    "    \"\"\"\n",
    "    factors = make_factors(bus_ids)\n",
    "    max_ts = max(factors.keys())\n",
    "    base_delta = factors[max_ts]\n",
    "    guess = ((start // max_ts) + 1) * max_ts if start else max_ts\n",
    "    while True:\n",
    "        if is_solution(guess, factors, base_delta):\n",
    "            return guess - base_delta\n",
    "        guess += max_ts"
   ]
  },
  {
   "cell_type": "code",
   "execution_count": 185,
   "metadata": {},
   "outputs": [
    {
     "output_type": "stream",
     "name": "stdout",
     "text": [
      "Finding tests in NoName\nTrying:\n    earliest_timestamp([7, 13, 'x', 'x', 59, 'x', 31, 19])\nExpecting:\n    1068781\nok\n"
     ]
    }
   ],
   "source": [
    "doctest.run_docstring_examples(earliest_timestamp, globs=None, verbose=True)"
   ]
  },
  {
   "cell_type": "code",
   "execution_count": 235,
   "metadata": {},
   "outputs": [],
   "source": [
    "@dataclass\n",
    "class Solution:\n",
    "    phase: int\n",
    "    period: int\n",
    "\n",
    "    @staticmethod\n",
    "    def create(n, delta):\n",
    "        return Solution((n - delta) % n, n)\n",
    "\n",
    "def sync(s1, s2):\n",
    "    \"\"\"\n",
    "    >>> sync(Solution.create(17, 0), Solution.create(1, 0))\n",
    "    Solution(phase=0, period=17)\n",
    "    >>> sync(sync(Solution.create(7, 0), Solution.create(13, 1)), Solution.create(59, 4)).phase\n",
    "    350\n",
    "    \"\"\"\n",
    "    # Only works if periods are prime numbers, I guess...\n",
    "    hi = s1.period * s2.period\n",
    "    for i in itertools.chain(range(s1.phase, hi, s1.period), range(s2.phase, hi, s2.period)):\n",
    "        if (i % s1.period) == s1.phase and (i % s2.period) == s2.phase:\n",
    "            return Solution(i, s1.period * s2.period)\n",
    "\n",
    "def sync_all(bus_ids):\n",
    "    \"\"\"\n",
    "    >>> sync_all([7, 13, 'x', 'x', 59, 'x', 31, 19])\n",
    "    Solution(phase=1068781, period=3162341)\n",
    "    \"\"\"\n",
    "    partials = [Solution.create(bus_id, i)\n",
    "                for i, bus_id in enumerate(bus_ids) if not is_wildcard(bus_id)]\n",
    "    return functools.reduce(sync, partials, Solution.create(1, 0))\n"
   ]
  },
  {
   "cell_type": "code",
   "execution_count": 236,
   "metadata": {},
   "outputs": [
    {
     "output_type": "stream",
     "name": "stdout",
     "text": [
      "Finding tests in NoName\nTrying:\n    sync(Solution.create(17, 0), Solution.create(1, 0))\nExpecting:\n    Solution(phase=0, period=17)\nok\nTrying:\n    sync(sync(Solution.create(7, 0), Solution.create(13, 1)), Solution.create(59, 4)).phase\nExpecting:\n    350\nok\nFinding tests in NoName\nTrying:\n    sync_all([7, 13, 'x', 'x', 59, 'x', 31, 19])\nExpecting:\n    Solution(phase=1068781, period=3162341)\nok\n"
     ]
    }
   ],
   "source": [
    "doctest.run_docstring_examples(sync, globs=None, verbose=True)\n",
    "doctest.run_docstring_examples(sync_all, globs=None, verbose=True)"
   ]
  },
  {
   "cell_type": "code",
   "execution_count": 237,
   "metadata": {},
   "outputs": [
    {
     "output_type": "stream",
     "name": "stdout",
     "text": [
      "Part 1:  370\nPart 2:  894954360381385\nWall time: 2 ms\n"
     ]
    }
   ],
   "source": [
    "%%time\n",
    "# Final answers\n",
    "with open('day13.txt') as f:\n",
    "    ts, bus_ids = parse_schedule(f.read())\n",
    "    bus_id, wait_time = best_bus(ts, bus_ids)\n",
    "    print('Part 1: ', bus_id * wait_time)\n",
    "    print('Part 2: ', sync_all(bus_ids).phase)"
   ]
  },
  {
   "source": [
    "# Day 14: Docking Data"
   ],
   "cell_type": "markdown",
   "metadata": {}
  },
  {
   "cell_type": "code",
   "execution_count": 69,
   "metadata": {},
   "outputs": [],
   "source": [
    "def to_binary(x, width=36):\n",
    "    \"\"\"\n",
    "    >>> to_binary(12, 4)\n",
    "    '1100'\n",
    "    >>> to_binary(12, 6)\n",
    "    '001100'\n",
    "    \"\"\"\n",
    "    return f'{x:0{width}b}'\n",
    "\n",
    "def to_decimal(mask):\n",
    "    return int(mask, 2)\n",
    "\n",
    "def apply_mask(x, mask):\n",
    "    \"\"\"\n",
    "    >>> apply_mask(11, 'XXXXXXXXXXXXXXXXXXXXXXXXXXXXX1XXXX0X')\n",
    "    73\n",
    "    >>> apply_mask(101, 'XXXXXXXXXXXXXXXXXXXXXXXXXXXXX1XXXX0X')\n",
    "    101\n",
    "    >>> apply_mask(0, 'XXXXXXXXXXXXXXXXXXXXXXXXXXXXX1XXXX0X')\n",
    "    64\n",
    "    \"\"\"\n",
    "    # Apply 1s.\n",
    "    x |= to_decimal(mask.replace('X', '0'))\n",
    "    # Apply 0s.\n",
    "    x &= to_decimal(mask.replace('X', '1'))\n",
    "    return x\n",
    "\n",
    "def expand_mask(mask):\n",
    "    \"\"\"\n",
    "    >>> list(expand_mask('11001'))\n",
    "    ['11001']\n",
    "    >>> list(expand_mask('X0X1'))\n",
    "    ['0001', '0011', '1001', '1011']\n",
    "    \"\"\"\n",
    "    wildcards = mask.count('X')\n",
    "    for sample in range(2**wildcards):\n",
    "        exp = mask\n",
    "        for bit in to_binary(sample, wildcards):\n",
    "            exp = exp.replace('X', bit, 1)\n",
    "        yield exp\n",
    "\n",
    "\n",
    "def expand_addr(addr, mask):\n",
    "    \"\"\"\n",
    "    >>> list(expand_addr(42, '000000000000000000000000000000X1001X'))\n",
    "    [26, 27, 58, 59]\n",
    "    \"\"\"\n",
    "    masked_addr = ''.join(m if m in ('1', 'X') else a \n",
    "                          for a, m in zip(to_binary(addr), mask))\n",
    "    for exp in expand_mask(masked_addr):\n",
    "        yield to_decimal(exp)\n",
    "\n",
    "def parse_program(program):\n",
    "    for line in program:\n",
    "        lhs, rhs = line.strip().split(' = ')\n",
    "        if lhs == 'mask':\n",
    "            yield lhs, rhs\n",
    "        else:\n",
    "            addr = int(lhs[lhs.index('[')+1:-1])\n",
    "            val = int(rhs)\n",
    "            yield lhs, (addr, val)\n",
    "        \n",
    "\n",
    "def run_program(program):\n",
    "    \"\"\"\n",
    "    >>> program = ['mask = XXXXXXXXXXXXXXXXXXXXXXXXXXXXX1XXXX0X',\n",
    "    ...            'mem[8] = 11', 'mem[7] = 101', 'mem[8] = 0']\n",
    "    >>> run_program(program)\n",
    "    165\n",
    "    \"\"\"\n",
    "    mask = None\n",
    "    mem = {}\n",
    "    for opcode, operands in parse_program(program):\n",
    "        if opcode == 'mask':\n",
    "            mask = operands\n",
    "        else:\n",
    "            addr, val = operands\n",
    "            mem[addr] = apply_mask(val, mask)\n",
    "    return sum(mem.values())\n",
    "\n",
    "def run_program_v2(program):\n",
    "    \"\"\"\n",
    "    >>> program = ['mask = XXXXXXXXXXXXXXXXXXXXXXXXXXXXX1XXXX0X',\n",
    "    ...            'mem[8] = 11', 'mem[7] = 101', 'mem[8] = 0']\n",
    "    >>> run_program_v2(program)\n",
    "    208\n",
    "    \"\"\"\n",
    "    mask = None\n",
    "    mem = {}\n",
    "    for opcode, operands in parse_program(program):\n",
    "        if opcode == 'mask':\n",
    "            mask = operands\n",
    "        else:\n",
    "            addr, val = operands\n",
    "            for addr in expand_addr(addr, mask):\n",
    "                mem[addr] = val\n",
    "    return sum(mem.values())"
   ]
  },
  {
   "cell_type": "code",
   "execution_count": 72,
   "metadata": {},
   "outputs": [
    {
     "output_type": "stream",
     "name": "stdout",
     "text": [
      "Finding tests in NoName\nTrying:\n    to_binary(12, 4)\nExpecting:\n    '1100'\nok\nTrying:\n    to_binary(12, 6)\nExpecting:\n    '001100'\nok\nFinding tests in NoName\nTrying:\n    apply_mask(11, 'XXXXXXXXXXXXXXXXXXXXXXXXXXXXX1XXXX0X')\nExpecting:\n    73\nok\nTrying:\n    apply_mask(101, 'XXXXXXXXXXXXXXXXXXXXXXXXXXXXX1XXXX0X')\nExpecting:\n    101\nok\nTrying:\n    apply_mask(0, 'XXXXXXXXXXXXXXXXXXXXXXXXXXXXX1XXXX0X')\nExpecting:\n    64\nok\nFinding tests in NoName\nTrying:\n    list(expand_mask('11001'))\nExpecting:\n    ['11001']\nok\nTrying:\n    list(expand_mask('X0X1'))\nExpecting:\n    ['0001', '0011', '1001', '1011']\nok\nFinding tests in NoName\nTrying:\n    list(expand_addr(42, '000000000000000000000000000000X1001X'))\nExpecting:\n    [26, 27, 58, 59]\nok\nFinding tests in NoName\nTrying:\n    program = ['mask = XXXXXXXXXXXXXXXXXXXXXXXXXXXXX1XXXX0X',\n               'mem[8] = 11', 'mem[7] = 101', 'mem[8] = 0']\nExpecting nothing\nok\nTrying:\n    run_program(program)\nExpecting:\n    165\nok\nFinding tests in NoName\nTrying:\n    program = ['mask = XXXXXXXXXXXXXXXXXXXXXXXXXXXXX1XXXX0X',\n               'mem[8] = 11', 'mem[7] = 101', 'mem[8] = 0']\nExpecting nothing\nok\nTrying:\n    run_program_v2(program)\nExpecting:\n    208\n"
     ]
    },
    {
     "output_type": "error",
     "ename": "KeyboardInterrupt",
     "evalue": "",
     "traceback": [
      "\u001b[1;31m---------------------------------------------------------------------------\u001b[0m",
      "\u001b[1;31mKeyboardInterrupt\u001b[0m                         Traceback (most recent call last)",
      "\u001b[1;32m<ipython-input-72-98d7ca16af33>\u001b[0m in \u001b[0;36m<module>\u001b[1;34m\u001b[0m\n\u001b[0;32m      4\u001b[0m \u001b[0mdoctest\u001b[0m\u001b[1;33m.\u001b[0m\u001b[0mrun_docstring_examples\u001b[0m\u001b[1;33m(\u001b[0m\u001b[0mexpand_addr\u001b[0m\u001b[1;33m,\u001b[0m \u001b[0mglobs\u001b[0m\u001b[1;33m=\u001b[0m\u001b[1;32mNone\u001b[0m\u001b[1;33m,\u001b[0m \u001b[0mverbose\u001b[0m\u001b[1;33m=\u001b[0m\u001b[1;32mTrue\u001b[0m\u001b[1;33m)\u001b[0m\u001b[1;33m\u001b[0m\u001b[1;33m\u001b[0m\u001b[0m\n\u001b[0;32m      5\u001b[0m \u001b[0mdoctest\u001b[0m\u001b[1;33m.\u001b[0m\u001b[0mrun_docstring_examples\u001b[0m\u001b[1;33m(\u001b[0m\u001b[0mrun_program\u001b[0m\u001b[1;33m,\u001b[0m \u001b[0mglobs\u001b[0m\u001b[1;33m=\u001b[0m\u001b[1;32mNone\u001b[0m\u001b[1;33m,\u001b[0m \u001b[0mverbose\u001b[0m\u001b[1;33m=\u001b[0m\u001b[1;32mTrue\u001b[0m\u001b[1;33m)\u001b[0m\u001b[1;33m\u001b[0m\u001b[1;33m\u001b[0m\u001b[0m\n\u001b[1;32m----> 6\u001b[1;33m \u001b[0mdoctest\u001b[0m\u001b[1;33m.\u001b[0m\u001b[0mrun_docstring_examples\u001b[0m\u001b[1;33m(\u001b[0m\u001b[0mrun_program_v2\u001b[0m\u001b[1;33m,\u001b[0m \u001b[0mglobs\u001b[0m\u001b[1;33m=\u001b[0m\u001b[1;32mNone\u001b[0m\u001b[1;33m,\u001b[0m \u001b[0mverbose\u001b[0m\u001b[1;33m=\u001b[0m\u001b[1;32mTrue\u001b[0m\u001b[1;33m)\u001b[0m\u001b[1;33m\u001b[0m\u001b[1;33m\u001b[0m\u001b[0m\n\u001b[0m",
      "\u001b[1;32mD:\\Anaconda\\envs\\aoc\\lib\\doctest.py\u001b[0m in \u001b[0;36mrun_docstring_examples\u001b[1;34m(f, globs, verbose, name, compileflags, optionflags)\u001b[0m\n\u001b[0;32m   2110\u001b[0m     \u001b[0mrunner\u001b[0m \u001b[1;33m=\u001b[0m \u001b[0mDocTestRunner\u001b[0m\u001b[1;33m(\u001b[0m\u001b[0mverbose\u001b[0m\u001b[1;33m=\u001b[0m\u001b[0mverbose\u001b[0m\u001b[1;33m,\u001b[0m \u001b[0moptionflags\u001b[0m\u001b[1;33m=\u001b[0m\u001b[0moptionflags\u001b[0m\u001b[1;33m)\u001b[0m\u001b[1;33m\u001b[0m\u001b[1;33m\u001b[0m\u001b[0m\n\u001b[0;32m   2111\u001b[0m     \u001b[1;32mfor\u001b[0m \u001b[0mtest\u001b[0m \u001b[1;32min\u001b[0m \u001b[0mfinder\u001b[0m\u001b[1;33m.\u001b[0m\u001b[0mfind\u001b[0m\u001b[1;33m(\u001b[0m\u001b[0mf\u001b[0m\u001b[1;33m,\u001b[0m \u001b[0mname\u001b[0m\u001b[1;33m,\u001b[0m \u001b[0mglobs\u001b[0m\u001b[1;33m=\u001b[0m\u001b[0mglobs\u001b[0m\u001b[1;33m)\u001b[0m\u001b[1;33m:\u001b[0m\u001b[1;33m\u001b[0m\u001b[1;33m\u001b[0m\u001b[0m\n\u001b[1;32m-> 2112\u001b[1;33m         \u001b[0mrunner\u001b[0m\u001b[1;33m.\u001b[0m\u001b[0mrun\u001b[0m\u001b[1;33m(\u001b[0m\u001b[0mtest\u001b[0m\u001b[1;33m,\u001b[0m \u001b[0mcompileflags\u001b[0m\u001b[1;33m=\u001b[0m\u001b[0mcompileflags\u001b[0m\u001b[1;33m)\u001b[0m\u001b[1;33m\u001b[0m\u001b[1;33m\u001b[0m\u001b[0m\n\u001b[0m\u001b[0;32m   2113\u001b[0m \u001b[1;33m\u001b[0m\u001b[0m\n\u001b[0;32m   2114\u001b[0m \u001b[1;31m######################################################################\u001b[0m\u001b[1;33m\u001b[0m\u001b[1;33m\u001b[0m\u001b[1;33m\u001b[0m\u001b[0m\n",
      "\u001b[1;32mD:\\Anaconda\\envs\\aoc\\lib\\doctest.py\u001b[0m in \u001b[0;36mrun\u001b[1;34m(self, test, compileflags, out, clear_globs)\u001b[0m\n\u001b[0;32m   1481\u001b[0m \u001b[1;33m\u001b[0m\u001b[0m\n\u001b[0;32m   1482\u001b[0m         \u001b[1;32mtry\u001b[0m\u001b[1;33m:\u001b[0m\u001b[1;33m\u001b[0m\u001b[1;33m\u001b[0m\u001b[0m\n\u001b[1;32m-> 1483\u001b[1;33m             \u001b[1;32mreturn\u001b[0m \u001b[0mself\u001b[0m\u001b[1;33m.\u001b[0m\u001b[0m__run\u001b[0m\u001b[1;33m(\u001b[0m\u001b[0mtest\u001b[0m\u001b[1;33m,\u001b[0m \u001b[0mcompileflags\u001b[0m\u001b[1;33m,\u001b[0m \u001b[0mout\u001b[0m\u001b[1;33m)\u001b[0m\u001b[1;33m\u001b[0m\u001b[1;33m\u001b[0m\u001b[0m\n\u001b[0m\u001b[0;32m   1484\u001b[0m         \u001b[1;32mfinally\u001b[0m\u001b[1;33m:\u001b[0m\u001b[1;33m\u001b[0m\u001b[1;33m\u001b[0m\u001b[0m\n\u001b[0;32m   1485\u001b[0m             \u001b[0msys\u001b[0m\u001b[1;33m.\u001b[0m\u001b[0mstdout\u001b[0m \u001b[1;33m=\u001b[0m \u001b[0msave_stdout\u001b[0m\u001b[1;33m\u001b[0m\u001b[1;33m\u001b[0m\u001b[0m\n",
      "\u001b[1;32mD:\\Anaconda\\envs\\aoc\\lib\\doctest.py\u001b[0m in \u001b[0;36m__run\u001b[1;34m(self, test, compileflags, out)\u001b[0m\n\u001b[0;32m   1334\u001b[0m             \u001b[1;32mtry\u001b[0m\u001b[1;33m:\u001b[0m\u001b[1;33m\u001b[0m\u001b[1;33m\u001b[0m\u001b[0m\n\u001b[0;32m   1335\u001b[0m                 \u001b[1;31m# Don't blink!  This is where the user's code gets run.\u001b[0m\u001b[1;33m\u001b[0m\u001b[1;33m\u001b[0m\u001b[1;33m\u001b[0m\u001b[0m\n\u001b[1;32m-> 1336\u001b[1;33m                 exec(compile(example.source, filename, \"single\",\n\u001b[0m\u001b[0;32m   1337\u001b[0m                              compileflags, 1), test.globs)\n\u001b[0;32m   1338\u001b[0m                 \u001b[0mself\u001b[0m\u001b[1;33m.\u001b[0m\u001b[0mdebugger\u001b[0m\u001b[1;33m.\u001b[0m\u001b[0mset_continue\u001b[0m\u001b[1;33m(\u001b[0m\u001b[1;33m)\u001b[0m \u001b[1;31m# ==== Example Finished ====\u001b[0m\u001b[1;33m\u001b[0m\u001b[1;33m\u001b[0m\u001b[0m\n",
      "\u001b[1;32m<doctest NoName[1]>\u001b[0m in \u001b[0;36m<module>\u001b[1;34m\u001b[0m\n",
      "\u001b[1;32m<ipython-input-69-5825af93da1e>\u001b[0m in \u001b[0;36mrun_program_v2\u001b[1;34m(program)\u001b[0m\n\u001b[0;32m     93\u001b[0m         \u001b[1;32melse\u001b[0m\u001b[1;33m:\u001b[0m\u001b[1;33m\u001b[0m\u001b[1;33m\u001b[0m\u001b[0m\n\u001b[0;32m     94\u001b[0m             \u001b[0maddr\u001b[0m\u001b[1;33m,\u001b[0m \u001b[0mval\u001b[0m \u001b[1;33m=\u001b[0m \u001b[0moperands\u001b[0m\u001b[1;33m\u001b[0m\u001b[1;33m\u001b[0m\u001b[0m\n\u001b[1;32m---> 95\u001b[1;33m             \u001b[1;32mfor\u001b[0m \u001b[0maddr\u001b[0m \u001b[1;32min\u001b[0m \u001b[0mexpand_addr\u001b[0m\u001b[1;33m(\u001b[0m\u001b[0maddr\u001b[0m\u001b[1;33m,\u001b[0m \u001b[0mmask\u001b[0m\u001b[1;33m)\u001b[0m\u001b[1;33m:\u001b[0m\u001b[1;33m\u001b[0m\u001b[1;33m\u001b[0m\u001b[0m\n\u001b[0m\u001b[0;32m     96\u001b[0m                 \u001b[0mmem\u001b[0m\u001b[1;33m[\u001b[0m\u001b[0maddr\u001b[0m\u001b[1;33m]\u001b[0m \u001b[1;33m=\u001b[0m \u001b[0mval\u001b[0m\u001b[1;33m\u001b[0m\u001b[1;33m\u001b[0m\u001b[0m\n\u001b[0;32m     97\u001b[0m     \u001b[1;32mreturn\u001b[0m \u001b[0msum\u001b[0m\u001b[1;33m(\u001b[0m\u001b[0mmem\u001b[0m\u001b[1;33m.\u001b[0m\u001b[0mvalues\u001b[0m\u001b[1;33m(\u001b[0m\u001b[1;33m)\u001b[0m\u001b[1;33m)\u001b[0m\u001b[1;33m\u001b[0m\u001b[1;33m\u001b[0m\u001b[0m\n",
      "\u001b[1;32m<ipython-input-69-5825af93da1e>\u001b[0m in \u001b[0;36mexpand_addr\u001b[1;34m(addr, mask)\u001b[0m\n\u001b[0;32m     48\u001b[0m     masked_addr = ''.join(m if m in ('1', 'X') else a \n\u001b[0;32m     49\u001b[0m                           for a, m in zip(to_binary(addr), mask))\n\u001b[1;32m---> 50\u001b[1;33m     \u001b[1;32mfor\u001b[0m \u001b[0mexp\u001b[0m \u001b[1;32min\u001b[0m \u001b[0mexpand_mask\u001b[0m\u001b[1;33m(\u001b[0m\u001b[0mmasked_addr\u001b[0m\u001b[1;33m)\u001b[0m\u001b[1;33m:\u001b[0m\u001b[1;33m\u001b[0m\u001b[1;33m\u001b[0m\u001b[0m\n\u001b[0m\u001b[0;32m     51\u001b[0m         \u001b[1;32myield\u001b[0m \u001b[0mto_decimal\u001b[0m\u001b[1;33m(\u001b[0m\u001b[0mexp\u001b[0m\u001b[1;33m)\u001b[0m\u001b[1;33m\u001b[0m\u001b[1;33m\u001b[0m\u001b[0m\n\u001b[0;32m     52\u001b[0m \u001b[1;33m\u001b[0m\u001b[0m\n",
      "\u001b[1;32m<ipython-input-69-5825af93da1e>\u001b[0m in \u001b[0;36mexpand_mask\u001b[1;34m(mask)\u001b[0m\n\u001b[0;32m     37\u001b[0m         \u001b[0mexp\u001b[0m \u001b[1;33m=\u001b[0m \u001b[0mmask\u001b[0m\u001b[1;33m\u001b[0m\u001b[1;33m\u001b[0m\u001b[0m\n\u001b[0;32m     38\u001b[0m         \u001b[1;32mfor\u001b[0m \u001b[0mbit\u001b[0m \u001b[1;32min\u001b[0m \u001b[0mto_binary\u001b[0m\u001b[1;33m(\u001b[0m\u001b[0msample\u001b[0m\u001b[1;33m,\u001b[0m \u001b[0mwildcards\u001b[0m\u001b[1;33m)\u001b[0m\u001b[1;33m:\u001b[0m\u001b[1;33m\u001b[0m\u001b[1;33m\u001b[0m\u001b[0m\n\u001b[1;32m---> 39\u001b[1;33m             \u001b[0mexp\u001b[0m \u001b[1;33m=\u001b[0m \u001b[0mexp\u001b[0m\u001b[1;33m.\u001b[0m\u001b[0mreplace\u001b[0m\u001b[1;33m(\u001b[0m\u001b[1;34m'X'\u001b[0m\u001b[1;33m,\u001b[0m \u001b[0mbit\u001b[0m\u001b[1;33m,\u001b[0m \u001b[1;36m1\u001b[0m\u001b[1;33m)\u001b[0m\u001b[1;33m\u001b[0m\u001b[1;33m\u001b[0m\u001b[0m\n\u001b[0m\u001b[0;32m     40\u001b[0m         \u001b[1;32myield\u001b[0m \u001b[0mexp\u001b[0m\u001b[1;33m\u001b[0m\u001b[1;33m\u001b[0m\u001b[0m\n\u001b[0;32m     41\u001b[0m \u001b[1;33m\u001b[0m\u001b[0m\n",
      "\u001b[1;31mKeyboardInterrupt\u001b[0m: "
     ]
    }
   ],
   "source": [
    "doctest.run_docstring_examples(to_binary, globs=None, verbose=True)\n",
    "doctest.run_docstring_examples(apply_mask, globs=None, verbose=True)\n",
    "doctest.run_docstring_examples(expand_mask, globs=None, verbose=True)\n",
    "doctest.run_docstring_examples(expand_addr, globs=None, verbose=True)\n",
    "doctest.run_docstring_examples(run_program, globs=None, verbose=True)\n",
    "doctest.run_docstring_examples(run_program_v2, globs=None, verbose=True)"
   ]
  },
  {
   "cell_type": "code",
   "execution_count": 77,
   "metadata": {},
   "outputs": [
    {
     "output_type": "stream",
     "name": "stdout",
     "text": [
      "Part 1:  14553106347726\n",
      "Part 2:  2737766154126\n",
      "Wall time: 239 ms\n"
     ]
    }
   ],
   "source": [
    "%%time\n",
    "# Final answers\n",
    "with open('day14.txt') as f:\n",
    "    program = f.readlines()\n",
    "    print('Part 1: ', run_program(program))\n",
    "    print('Part 2: ', run_program_v2(program))"
   ]
  }
 ]
}