{
 "metadata": {
  "language_info": {
   "codemirror_mode": {
    "name": "ipython",
    "version": 3
   },
   "file_extension": ".py",
   "mimetype": "text/x-python",
   "name": "python",
   "nbconvert_exporter": "python",
   "pygments_lexer": "ipython3",
   "version": "3.8.3-final"
  },
  "orig_nbformat": 2,
  "kernelspec": {
   "name": "python3",
   "display_name": "Python 3.8.3 64-bit ('aoc': conda)",
   "metadata": {
    "interpreter": {
     "hash": "91ecdc0959f669be397eefd8d918e676da99a58414a8579254f71bfed9ab338a"
    }
   }
  }
 },
 "nbformat": 4,
 "nbformat_minor": 2,
 "cells": [
  {
   "source": [
    "# Common imports & library functions"
   ],
   "cell_type": "markdown",
   "metadata": {}
  },
  {
   "cell_type": "code",
   "execution_count": 6,
   "metadata": {},
   "outputs": [],
   "source": [
    "import collections\n",
    "from collections import defaultdict, Counter\n",
    "from dataclasses import dataclass\n",
    "import doctest\n",
    "import functools\n",
    "import itertools\n",
    "from itertools import count\n",
    "import math\n",
    "import re\n",
    "from copy import deepcopy"
   ]
  },
  {
   "source": [
    "# Day 11: Seating System"
   ],
   "cell_type": "markdown",
   "metadata": {}
  },
  {
   "cell_type": "code",
   "execution_count": 7,
   "metadata": {},
   "outputs": [],
   "source": [
    "def _floors(n):\n",
    "    return ['.'] * n\n",
    "\n",
    "class SeatLayout:\n",
    "    def __init__(self, initial_state, neighbor_threshold=4):\n",
    "        self._neighbor_threshold = neighbor_threshold\n",
    "        initial_state = initial_state.strip().replace(' ', '')\n",
    "        cells = [list(row.strip()) for row in initial_state.split()]\n",
    "        w = len(cells[0])\n",
    "        self._cells = ([_floors(w + 2)] +\n",
    "                       [_floors(1) + row + _floors(1) for row in cells] +\n",
    "                       [_floors(w + 2)])\n",
    "\n",
    "    def at(self, x, y):\n",
    "        return self._cells[y+1][x+1]\n",
    "\n",
    "    def set(self, x, y, state):\n",
    "        self._cells[y+1][x+1] = state\n",
    "\n",
    "    def cells(self):\n",
    "        for y in range(1, len(self._cells) - 1):\n",
    "            for x in range(1, len(self._cells[0]) - 1):\n",
    "                yield (x - 1, y - 1, self._cells[y][x])\n",
    "\n",
    "    def neighbors(self, x, y):\n",
    "        for dx in (-1, 0, 1):\n",
    "            for dy in (-1, 0, 1):\n",
    "                if dx == 0 and dy == 0: continue\n",
    "                yield self.at(x+dx, y+dy)\n",
    "\n",
    "    def update(self):\n",
    "        prev_layout = deepcopy(self)\n",
    "        updated = False\n",
    "        for x, y, cell in prev_layout.cells():\n",
    "            neighbors = list(prev_layout.neighbors(x, y))\n",
    "            if (cell == 'L' and not any(n == '#' for n in neighbors)):\n",
    "                self.set(x, y, '#')\n",
    "                updated = True\n",
    "            elif (cell == '#' and neighbors.count('#') >= self._neighbor_threshold):\n",
    "                self.set(x, y, 'L')\n",
    "                updated = True\n",
    "        return updated\n",
    "\n",
    "    def num_occupied(self):\n",
    "        return sum(r.count('#') for r in self._cells)\n",
    "\n",
    "    def __str__(self):\n",
    "        return '\\n'.join(''.join(r) for r in self._cells)\n",
    "\n",
    "class SeatLayout2(SeatLayout):\n",
    "    def __init__(self, initial_state, neighbor_threshold=5):\n",
    "        super().__init__(initial_state, neighbor_threshold)\n",
    "\n",
    "    def within_grid(self, x, y):\n",
    "        return 0 <= y < len(self._cells) - 1 and 0 <= x < len(self._cells[0]) - 1\n",
    "\n",
    "    def neighbors(self, x, y):\n",
    "        for dx in (-1, 0, 1):\n",
    "            for dy in (-1, 0, 1):\n",
    "                if dx == 0 and dy == 0: continue\n",
    "                for xp, yp in zip(count(x+dx, dx), count(y+dy, dy)):\n",
    "                    if not self.within_grid(xp, yp):\n",
    "                        break\n",
    "                    if (cell := self.at(xp, yp)) != '.':\n",
    "                        yield cell\n",
    "                        break\n",
    "\n",
    "def simulate_until_equilibrium(layout):\n",
    "    while layout.update():\n",
    "        continue\n",
    "    return layout.num_occupied()"
   ]
  },
  {
   "cell_type": "code",
   "execution_count": 8,
   "metadata": {
    "tags": []
   },
   "outputs": [],
   "source": [
    "test_layout = \"\"\"\n",
    "L.LL.LL.LL\n",
    "LLLLLLL.LL\n",
    "L.L.L..L..\n",
    "LLLL.LL.LL\n",
    "L.LL.LL.LL\n",
    "L.LLLLL.LL\n",
    "..L.L.....\n",
    "LLLLLLLLLL\n",
    "L.LLLLLL.L\n",
    "L.LLLLL.LL\n",
    "\"\"\"\n",
    "\n",
    "assert simulate_until_equilibrium(SeatLayout(test_layout)) == 37\n",
    "assert simulate_until_equilibrium(SeatLayout2(test_layout)) == 26"
   ]
  },
  {
   "cell_type": "code",
   "execution_count": 57,
   "metadata": {},
   "outputs": [
    {
     "output_type": "stream",
     "name": "stdout",
     "text": [
      "Part 1:  2418\n",
      "Part 2:  2144\n"
     ]
    }
   ],
   "source": [
    "# Final answers\n",
    "with open('day11.txt') as f:\n",
    "    initial_state = f.read()\n",
    "    print('Part 1: ', simulate_until_equilibrium(SeatLayout(initial_state)))\n",
    "    print('Part 2: ', simulate_until_equilibrium(SeatLayout2(initial_state)))"
   ]
  }
 ]
}