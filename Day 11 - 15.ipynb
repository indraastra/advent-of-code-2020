{
 "metadata": {
  "language_info": {
   "codemirror_mode": {
    "name": "ipython",
    "version": 3
   },
   "file_extension": ".py",
   "mimetype": "text/x-python",
   "name": "python",
   "nbconvert_exporter": "python",
   "pygments_lexer": "ipython3",
   "version": "3.8.3-final"
  },
  "orig_nbformat": 2,
  "kernelspec": {
   "name": "python3",
   "display_name": "Python 3.8.3 64-bit ('aoc': conda)",
   "metadata": {
    "interpreter": {
     "hash": "91ecdc0959f669be397eefd8d918e676da99a58414a8579254f71bfed9ab338a"
    }
   }
  }
 },
 "nbformat": 4,
 "nbformat_minor": 2,
 "cells": [
  {
   "source": [
    "# Common imports & library functions"
   ],
   "cell_type": "markdown",
   "metadata": {}
  },
  {
   "cell_type": "code",
   "execution_count": 3,
   "metadata": {},
   "outputs": [],
   "source": [
    "import collections\n",
    "from collections import defaultdict, Counter\n",
    "from dataclasses import dataclass\n",
    "import doctest\n",
    "import functools\n",
    "import itertools\n",
    "from itertools import count\n",
    "import math\n",
    "import re\n",
    "from copy import deepcopy"
   ]
  },
  {
   "source": [
    "# Day 11: Seating System"
   ],
   "cell_type": "markdown",
   "metadata": {}
  },
  {
   "cell_type": "code",
   "execution_count": 7,
   "metadata": {},
   "outputs": [],
   "source": [
    "def _floors(n):\n",
    "    return ['.'] * n\n",
    "\n",
    "class SeatLayout:\n",
    "    def __init__(self, initial_state, neighbor_threshold=4):\n",
    "        self._neighbor_threshold = neighbor_threshold\n",
    "        initial_state = initial_state.strip().replace(' ', '')\n",
    "        cells = [list(row.strip()) for row in initial_state.split()]\n",
    "        w = len(cells[0])\n",
    "        self._cells = ([_floors(w + 2)] +\n",
    "                       [_floors(1) + row + _floors(1) for row in cells] +\n",
    "                       [_floors(w + 2)])\n",
    "\n",
    "    def at(self, x, y):\n",
    "        return self._cells[y+1][x+1]\n",
    "\n",
    "    def set(self, x, y, state):\n",
    "        self._cells[y+1][x+1] = state\n",
    "\n",
    "    def cells(self):\n",
    "        for y in range(1, len(self._cells) - 1):\n",
    "            for x in range(1, len(self._cells[0]) - 1):\n",
    "                yield (x - 1, y - 1, self._cells[y][x])\n",
    "\n",
    "    def neighbors(self, x, y):\n",
    "        for dx in (-1, 0, 1):\n",
    "            for dy in (-1, 0, 1):\n",
    "                if dx == 0 and dy == 0: continue\n",
    "                yield self.at(x+dx, y+dy)\n",
    "\n",
    "    def update(self):\n",
    "        prev_layout = deepcopy(self)\n",
    "        updated = False\n",
    "        for x, y, cell in prev_layout.cells():\n",
    "            neighbors = list(prev_layout.neighbors(x, y))\n",
    "            if (cell == 'L' and not any(n == '#' for n in neighbors)):\n",
    "                self.set(x, y, '#')\n",
    "                updated = True\n",
    "            elif (cell == '#' and neighbors.count('#') >= self._neighbor_threshold):\n",
    "                self.set(x, y, 'L')\n",
    "                updated = True\n",
    "        return updated\n",
    "\n",
    "    def num_occupied(self):\n",
    "        return sum(r.count('#') for r in self._cells)\n",
    "\n",
    "    def __str__(self):\n",
    "        return '\\n'.join(''.join(r) for r in self._cells)\n",
    "\n",
    "class SeatLayout2(SeatLayout):\n",
    "    def __init__(self, initial_state, neighbor_threshold=5):\n",
    "        super().__init__(initial_state, neighbor_threshold)\n",
    "\n",
    "    def within_grid(self, x, y):\n",
    "        return 0 <= y < len(self._cells) - 1 and 0 <= x < len(self._cells[0]) - 1\n",
    "\n",
    "    def neighbors(self, x, y):\n",
    "        for dx in (-1, 0, 1):\n",
    "            for dy in (-1, 0, 1):\n",
    "                if dx == 0 and dy == 0: continue\n",
    "                for xp, yp in zip(count(x+dx, dx), count(y+dy, dy)):\n",
    "                    if not self.within_grid(xp, yp):\n",
    "                        break\n",
    "                    if (cell := self.at(xp, yp)) != '.':\n",
    "                        yield cell\n",
    "                        break\n",
    "\n",
    "def simulate_until_equilibrium(layout):\n",
    "    while layout.update():\n",
    "        continue\n",
    "    return layout.num_occupied()"
   ]
  },
  {
   "cell_type": "code",
   "execution_count": 8,
   "metadata": {
    "tags": []
   },
   "outputs": [],
   "source": [
    "test_layout = \"\"\"\n",
    "L.LL.LL.LL\n",
    "LLLLLLL.LL\n",
    "L.L.L..L..\n",
    "LLLL.LL.LL\n",
    "L.LL.LL.LL\n",
    "L.LLLLL.LL\n",
    "..L.L.....\n",
    "LLLLLLLLLL\n",
    "L.LLLLLL.L\n",
    "L.LLLLL.LL\n",
    "\"\"\"\n",
    "\n",
    "assert simulate_until_equilibrium(SeatLayout(test_layout)) == 37\n",
    "assert simulate_until_equilibrium(SeatLayout2(test_layout)) == 26"
   ]
  },
  {
   "cell_type": "code",
   "execution_count": 57,
   "metadata": {},
   "outputs": [
    {
     "output_type": "stream",
     "name": "stdout",
     "text": [
      "Part 1:  2418\n",
      "Part 2:  2144\n"
     ]
    }
   ],
   "source": [
    "# Final answers\n",
    "with open('day11.txt') as f:\n",
    "    initial_state = f.read()\n",
    "    print('Part 1: ', simulate_until_equilibrium(SeatLayout(initial_state)))\n",
    "    print('Part 2: ', simulate_until_equilibrium(SeatLayout2(initial_state)))"
   ]
  },
  {
   "source": [
    "# Day 12: Rain Risk"
   ],
   "cell_type": "markdown",
   "metadata": {}
  },
  {
   "cell_type": "code",
   "execution_count": 6,
   "metadata": {},
   "outputs": [],
   "source": [
    "import math\n",
    "\n",
    "def move_along_angle(x, y, distance, heading):\n",
    "    \"\"\"\n",
    "    >>> move_along_angle(0, 0, 10, 90)\n",
    "    (0, 10)\n",
    "    >>> move_along_angle(4, 1 + 3 * math.sqrt(3), 6, 240)\n",
    "    (1, 1)\n",
    "    \"\"\"\n",
    "    angle = math.radians(heading)\n",
    "    x += distance * math.cos(angle)\n",
    "    y += distance * math.sin(angle)\n",
    "    return int(round(x)), int(round(y))\n",
    "\n",
    "def parse_actions(actions):\n",
    "    for action in actions.strip().split():\n",
    "        action = action.strip()\n",
    "        yield action[0], int(action[1:])\n",
    "\n",
    "def move(actions, start_pos=(0, 0)):\n",
    "    \"\"\"\n",
    "    >>> move('''\n",
    "    ...     F10\n",
    "    ...     N3\n",
    "    ...     F7\n",
    "    ...     R90\n",
    "    ...     F11\n",
    "    ... ''')\n",
    "    (17, -8)\n",
    "    \"\"\"\n",
    "    x, y = start_pos\n",
    "    heading = 0  # degrees\n",
    "    for action, amount in parse_actions(actions):\n",
    "        if action == 'N':\n",
    "            y += amount\n",
    "        elif action == 'S':\n",
    "            y -= amount\n",
    "        elif action == 'E':\n",
    "            x += amount\n",
    "        elif action == 'W':\n",
    "            x -= amount\n",
    "        elif action == 'L':\n",
    "            heading = (heading + amount) % 360\n",
    "        elif action == 'R':\n",
    "            heading = (heading - amount) % 360\n",
    "        elif action == 'F':\n",
    "            x, y = move_along_angle(x, y, amount, heading)\n",
    "    return x, y"
   ]
  },
  {
   "cell_type": "code",
   "execution_count": 7,
   "metadata": {},
   "outputs": [
    {
     "output_type": "stream",
     "name": "stdout",
     "text": [
      "Finding tests in NoName\nTrying:\n    move_along_angle(0, 0, 10, 90)\nExpecting:\n    (0, 10)\nok\nTrying:\n    move_along_angle(4, 1 + 3 * math.sqrt(3), 6, 240)\nExpecting:\n    (1, 1)\nok\nFinding tests in NoName\nTrying:\n    move('''\n        F10\n        N3\n        F7\n        R90\n        F11\n    ''')\nExpecting:\n    (17, -8)\nok\n"
     ]
    }
   ],
   "source": [
    "doctest.run_docstring_examples(move_along_angle, globs=None, verbose=True)\n",
    "doctest.run_docstring_examples(move, globs=None, verbose=True)"
   ]
  },
  {
   "cell_type": "code",
   "execution_count": 8,
   "metadata": {},
   "outputs": [],
   "source": [
    "def rotate(x, y, angle):\n",
    "    \"\"\"\n",
    "    >>> rotate(10, 4, -90)\n",
    "    (4, -10)\n",
    "    \"\"\"\n",
    "    angle = math.radians(angle)\n",
    "    xp = x * math.cos(angle) - y * math.sin(angle)\n",
    "    yp = x * math.sin(angle) + y * math.cos(angle)\n",
    "    return int(round(xp)), int(round(yp))\n",
    "\n",
    "def move_waypoint(actions, start_pos=(10, 1)):\n",
    "    \"\"\"\n",
    "    >>> move_waypoint('''\n",
    "    ...     F10\n",
    "    ...     N3\n",
    "    ...     F7\n",
    "    ...     R90\n",
    "    ...     F11\n",
    "    ... ''')\n",
    "    (214, -72)\n",
    "    \"\"\"\n",
    "    sx, sy = 0, 0\n",
    "    wx, wy = start_pos\n",
    "    heading = 0  # degrees\n",
    "    for action, amount in parse_actions(actions):\n",
    "        if action == 'N':\n",
    "            wy += amount\n",
    "        elif action == 'S':\n",
    "            wy -= amount\n",
    "        elif action == 'E':\n",
    "            wx += amount\n",
    "        elif action == 'W':\n",
    "            wx -= amount\n",
    "        elif action == 'L':\n",
    "            wx, wy = rotate(wx, wy, amount)\n",
    "            heading = (heading + amount) % 360\n",
    "        elif action == 'R':\n",
    "            wx, wy = rotate(wx, wy, -amount)\n",
    "            heading = (heading - amount) % 360\n",
    "        elif action == 'F':\n",
    "            sx += wx * amount\n",
    "            sy += wy * amount\n",
    "    return sx, sy"
   ]
  },
  {
   "cell_type": "code",
   "execution_count": 9,
   "metadata": {},
   "outputs": [
    {
     "output_type": "stream",
     "name": "stdout",
     "text": [
      "Finding tests in NoName\nTrying:\n    rotate(10, 4, -90)\nExpecting:\n    (4, -10)\nok\nFinding tests in NoName\nTrying:\n    move_waypoint('''\n        F10\n        N3\n        F7\n        R90\n        F11\n    ''')\nExpecting:\n    (214, -72)\nok\n"
     ]
    }
   ],
   "source": [
    "doctest.run_docstring_examples(rotate, globs=None, verbose=True)\n",
    "doctest.run_docstring_examples(move_waypoint, globs=None, verbose=True)"
   ]
  },
  {
   "cell_type": "code",
   "execution_count": null,
   "metadata": {},
   "outputs": [],
   "source": []
  },
  {
   "cell_type": "code",
   "execution_count": 10,
   "metadata": {},
   "outputs": [
    {
     "output_type": "stream",
     "name": "stdout",
     "text": [
      "Part 1:  1106\nPart 2:  107281\n"
     ]
    }
   ],
   "source": [
    "# Final answers\n",
    "with open('day12.txt') as f:\n",
    "    actions = f.read()\n",
    "    print('Part 1: ', sum(abs(c) for c in move(actions)))\n",
    "    print('Part 2: ', sum(abs(c) for c in move_waypoint(actions)))"
   ]
  },
  {
   "cell_type": "code",
   "execution_count": null,
   "metadata": {},
   "outputs": [],
   "source": []
  },
  {
   "cell_type": "code",
   "execution_count": 92,
   "metadata": {},
   "outputs": [
    {
     "output_type": "stream",
     "name": "stdout",
     "text": [
      "0 0 0 F 10 -> 10 0 0\n10 0 0 N 3 -> 10 3 0\n10 3 0 F 7 -> 17 3 0\n17 3 0 R 90 -> 17 3 270\n17 3 270 F 11 -> 17 -8 270\n"
     ]
    },
    {
     "output_type": "execute_result",
     "data": {
      "text/plain": [
       "(17, -8)"
      ]
     },
     "metadata": {},
     "execution_count": 92
    }
   ],
   "source": [
    "move('''F10\r\n",
    "N3\r\n",
    "F7\r\n",
    "R90\r\n",
    "F11''')"
   ]
  },
  {
   "cell_type": "code",
   "execution_count": 94,
   "metadata": {
    "tags": []
   },
   "outputs": [
    {
     "output_type": "stream",
     "name": "stdout",
     "text": [
      "0 0 0 F 77 -> 77 0 0\n77 0 0 E 4 -> 81 0 0\n81 0 0 S 2 -> 81 -2 0\n81 -2 0 W 1 -> 80 -2 0\n80 -2 0 L 180 -> 80 -2 90\n80 -2 90 N 4 -> 80 2 90\n80 2 90 R 180 -> 80 2 0\n80 2 0 S 3 -> 80 -1 0\n80 -1 0 W 5 -> 75 -1 0\n75 -1 0 F 86 -> 161 -1 0\n161 -1 0 L 90 -> 161 -1 90\n161 -1 90 E 1 -> 162 -1 90\n162 -1 90 F 16 -> 162 15 90\n162 15 90 R 90 -> 162 15 0\n162 15 0 N 1 -> 162 16 0\n162 16 0 E 1 -> 163 16 0\n163 16 0 F 86 -> 249 16 0\n249 16 0 S 1 -> 249 15 0\n249 15 0 F 36 -> 285 15 0\n285 15 0 E 2 -> 287 15 0\n287 15 0 L 180 -> 287 15 90\n287 15 90 N 5 -> 287 20 90\n287 20 90 F 46 -> 287 66 90\n287 66 90 N 1 -> 287 67 90\n287 67 90 L 90 -> 287 67 180\n287 67 180 F 43 -> 244 67 180\n244 67 180 S 5 -> 244 62 180\n244 62 180 R 90 -> 244 62 90\n244 62 90 F 41 -> 244 103 90\n244 103 90 W 5 -> 239 103 90\n239 103 90 N 1 -> 239 104 90\n239 104 90 F 65 -> 239 169 90\n239 169 90 E 4 -> 243 169 90\n243 169 90 N 1 -> 243 170 90\n243 170 90 W 3 -> 240 170 90\n240 170 90 F 92 -> 240 262 90\n240 262 90 N 5 -> 240 267 90\n240 267 90 F 33 -> 240 300 90\n240 300 90 R 90 -> 240 300 0\n240 300 0 S 5 -> 240 295 0\n240 295 0 L 90 -> 240 295 90\n240 295 90 W 1 -> 239 295 90\n239 295 90 R 180 -> 239 295 0\n239 295 0 L 90 -> 239 295 90\n239 295 90 S 5 -> 239 290 90\n239 290 90 F 27 -> 239 317 90\n239 317 90 R 90 -> 239 317 0\n239 317 0 N 4 -> 239 321 0\n239 321 0 R 90 -> 239 321 270\n239 321 270 F 43 -> 239 278 270\n239 278 270 E 5 -> 244 278 270\n244 278 270 S 2 -> 244 276 270\n244 276 270 F 68 -> 244 208 270\n244 208 270 N 5 -> 244 213 270\n244 213 270 R 90 -> 244 213 180\n244 213 180 F 68 -> 176 213 180\n176 213 180 R 180 -> 176 213 90\n176 213 90 S 2 -> 176 211 90\n176 211 90 E 2 -> 178 211 90\n178 211 90 S 3 -> 178 208 90\n178 208 90 F 41 -> 178 249 90\n178 249 90 L 180 -> 178 249 180\n178 249 180 E 3 -> 181 249 180\n181 249 180 R 90 -> 181 249 90\n181 249 90 F 73 -> 181 322 90\n181 322 90 R 90 -> 181 322 0\n181 322 0 N 1 -> 181 323 0\n181 323 0 L 180 -> 181 323 90\n181 323 90 N 3 -> 181 326 90\n181 326 90 L 180 -> 181 326 180\n181 326 180 W 3 -> 178 326 180\n178 326 180 S 1 -> 178 325 180\n178 325 180 R 180 -> 178 325 90\n178 325 90 N 3 -> 178 328 90\n178 328 90 F 26 -> 178 354 90\n178 354 90 N 5 -> 178 359 90\n178 359 90 F 27 -> 178 386 90\n178 386 90 L 90 -> 178 386 180\n178 386 180 F 30 -> 148 386 180\n148 386 180 R 180 -> 148 386 90\n148 386 90 N 4 -> 148 390 90\n148 390 90 R 90 -> 148 390 0\n148 390 0 E 5 -> 153 390 0\n153 390 0 N 1 -> 153 391 0\n153 391 0 F 70 -> 223 391 0\n223 391 0 E 1 -> 224 391 0\n224 391 0 L 90 -> 224 391 90\n224 391 90 N 3 -> 224 394 90\n224 394 90 F 100 -> 224 494 90\n224 494 90 L 90 -> 224 494 180\n224 494 180 E 5 -> 229 494 180\n229 494 180 L 90 -> 229 494 270\n229 494 270 S 2 -> 229 492 270\n229 492 270 F 85 -> 229 407 270\n229 407 270 W 5 -> 224 407 270\n224 407 270 R 90 -> 224 407 180\n224 407 180 F 85 -> 139 407 180\n139 407 180 E 3 -> 142 407 180\n142 407 180 R 90 -> 142 407 90\n142 407 90 E 5 -> 147 407 90\n"
     ]
    },
    {
     "output_type": "execute_result",
     "data": {
      "text/plain": [
       "(147, 407)"
      ]
     },
     "metadata": {},
     "execution_count": 94
    }
   ],
   "source": [
    "move('\\n'.join(actions.split()[:100]))"
   ]
  },
  {
   "cell_type": "code",
   "execution_count": null,
   "metadata": {},
   "outputs": [],
   "source": []
  }
 ]
}