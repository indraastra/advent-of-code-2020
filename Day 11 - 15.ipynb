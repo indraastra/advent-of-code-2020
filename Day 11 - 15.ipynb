{
 "metadata": {
  "language_info": {
   "codemirror_mode": {
    "name": "ipython",
    "version": 3
   },
   "file_extension": ".py",
   "mimetype": "text/x-python",
   "name": "python",
   "nbconvert_exporter": "python",
   "pygments_lexer": "ipython3",
   "version": "3.8.3-final"
  },
  "orig_nbformat": 2,
  "kernelspec": {
   "name": "python3",
   "display_name": "Python 3.8.3 64-bit ('aoc': conda)",
   "metadata": {
    "interpreter": {
     "hash": "91ecdc0959f669be397eefd8d918e676da99a58414a8579254f71bfed9ab338a"
    }
   }
  }
 },
 "nbformat": 4,
 "nbformat_minor": 2,
 "cells": [
  {
   "source": [
    "# Common imports & library functions"
   ],
   "cell_type": "markdown",
   "metadata": {}
  },
  {
   "cell_type": "code",
   "execution_count": 220,
   "metadata": {},
   "outputs": [],
   "source": [
    "import collections\n",
    "from collections import defaultdict, Counter\n",
    "from dataclasses import dataclass\n",
    "import doctest\n",
    "import functools\n",
    "import itertools\n",
    "from itertools import count\n",
    "import math\n",
    "import re\n",
    "from copy import deepcopy"
   ]
  },
  {
   "source": [
    "# Day 11: Seating System"
   ],
   "cell_type": "markdown",
   "metadata": {}
  },
  {
   "cell_type": "code",
   "execution_count": 7,
   "metadata": {},
   "outputs": [],
   "source": [
    "def _floors(n):\n",
    "    return ['.'] * n\n",
    "\n",
    "class SeatLayout:\n",
    "    def __init__(self, initial_state, neighbor_threshold=4):\n",
    "        self._neighbor_threshold = neighbor_threshold\n",
    "        initial_state = initial_state.strip().replace(' ', '')\n",
    "        cells = [list(row.strip()) for row in initial_state.split()]\n",
    "        w = len(cells[0])\n",
    "        self._cells = ([_floors(w + 2)] +\n",
    "                       [_floors(1) + row + _floors(1) for row in cells] +\n",
    "                       [_floors(w + 2)])\n",
    "\n",
    "    def at(self, x, y):\n",
    "        return self._cells[y+1][x+1]\n",
    "\n",
    "    def set(self, x, y, state):\n",
    "        self._cells[y+1][x+1] = state\n",
    "\n",
    "    def cells(self):\n",
    "        for y in range(1, len(self._cells) - 1):\n",
    "            for x in range(1, len(self._cells[0]) - 1):\n",
    "                yield (x - 1, y - 1, self._cells[y][x])\n",
    "\n",
    "    def neighbors(self, x, y):\n",
    "        for dx in (-1, 0, 1):\n",
    "            for dy in (-1, 0, 1):\n",
    "                if dx == 0 and dy == 0: continue\n",
    "                yield self.at(x+dx, y+dy)\n",
    "\n",
    "    def update(self):\n",
    "        prev_layout = deepcopy(self)\n",
    "        updated = False\n",
    "        for x, y, cell in prev_layout.cells():\n",
    "            neighbors = list(prev_layout.neighbors(x, y))\n",
    "            if (cell == 'L' and not any(n == '#' for n in neighbors)):\n",
    "                self.set(x, y, '#')\n",
    "                updated = True\n",
    "            elif (cell == '#' and neighbors.count('#') >= self._neighbor_threshold):\n",
    "                self.set(x, y, 'L')\n",
    "                updated = True\n",
    "        return updated\n",
    "\n",
    "    def num_occupied(self):\n",
    "        return sum(r.count('#') for r in self._cells)\n",
    "\n",
    "    def __str__(self):\n",
    "        return '\\n'.join(''.join(r) for r in self._cells)\n",
    "\n",
    "class SeatLayout2(SeatLayout):\n",
    "    def __init__(self, initial_state, neighbor_threshold=5):\n",
    "        super().__init__(initial_state, neighbor_threshold)\n",
    "\n",
    "    def within_grid(self, x, y):\n",
    "        return 0 <= y < len(self._cells) - 1 and 0 <= x < len(self._cells[0]) - 1\n",
    "\n",
    "    def neighbors(self, x, y):\n",
    "        for dx in (-1, 0, 1):\n",
    "            for dy in (-1, 0, 1):\n",
    "                if dx == 0 and dy == 0: continue\n",
    "                for xp, yp in zip(count(x+dx, dx), count(y+dy, dy)):\n",
    "                    if not self.within_grid(xp, yp):\n",
    "                        break\n",
    "                    if (cell := self.at(xp, yp)) != '.':\n",
    "                        yield cell\n",
    "                        break\n",
    "\n",
    "def simulate_until_equilibrium(layout):\n",
    "    while layout.update():\n",
    "        continue\n",
    "    return layout.num_occupied()"
   ]
  },
  {
   "cell_type": "code",
   "execution_count": 8,
   "metadata": {
    "tags": []
   },
   "outputs": [],
   "source": [
    "test_layout = \"\"\"\n",
    "L.LL.LL.LL\n",
    "LLLLLLL.LL\n",
    "L.L.L..L..\n",
    "LLLL.LL.LL\n",
    "L.LL.LL.LL\n",
    "L.LLLLL.LL\n",
    "..L.L.....\n",
    "LLLLLLLLLL\n",
    "L.LLLLLL.L\n",
    "L.LLLLL.LL\n",
    "\"\"\"\n",
    "\n",
    "assert simulate_until_equilibrium(SeatLayout(test_layout)) == 37\n",
    "assert simulate_until_equilibrium(SeatLayout2(test_layout)) == 26"
   ]
  },
  {
   "cell_type": "code",
   "execution_count": 57,
   "metadata": {},
   "outputs": [
    {
     "output_type": "stream",
     "name": "stdout",
     "text": [
      "Part 1:  2418\n",
      "Part 2:  2144\n"
     ]
    }
   ],
   "source": [
    "# Final answers\n",
    "with open('day11.txt') as f:\n",
    "    initial_state = f.read()\n",
    "    print('Part 1: ', simulate_until_equilibrium(SeatLayout(initial_state)))\n",
    "    print('Part 2: ', simulate_until_equilibrium(SeatLayout2(initial_state)))"
   ]
  },
  {
   "source": [
    "# Day 12: Rain Risk"
   ],
   "cell_type": "markdown",
   "metadata": {}
  },
  {
   "cell_type": "code",
   "execution_count": 6,
   "metadata": {},
   "outputs": [],
   "source": [
    "import math\n",
    "\n",
    "def move_along_angle(x, y, distance, heading):\n",
    "    \"\"\"\n",
    "    >>> move_along_angle(0, 0, 10, 90)\n",
    "    (0, 10)\n",
    "    >>> move_along_angle(4, 1 + 3 * math.sqrt(3), 6, 240)\n",
    "    (1, 1)\n",
    "    \"\"\"\n",
    "    angle = math.radians(heading)\n",
    "    x += distance * math.cos(angle)\n",
    "    y += distance * math.sin(angle)\n",
    "    return int(round(x)), int(round(y))\n",
    "\n",
    "def parse_actions(actions):\n",
    "    for action in actions.strip().split():\n",
    "        action = action.strip()\n",
    "        yield action[0], int(action[1:])\n",
    "\n",
    "def move(actions, start_pos=(0, 0)):\n",
    "    \"\"\"\n",
    "    >>> move('''\n",
    "    ...     F10\n",
    "    ...     N3\n",
    "    ...     F7\n",
    "    ...     R90\n",
    "    ...     F11\n",
    "    ... ''')\n",
    "    (17, -8)\n",
    "    \"\"\"\n",
    "    x, y = start_pos\n",
    "    heading = 0  # degrees\n",
    "    for action, amount in parse_actions(actions):\n",
    "        if action == 'N':\n",
    "            y += amount\n",
    "        elif action == 'S':\n",
    "            y -= amount\n",
    "        elif action == 'E':\n",
    "            x += amount\n",
    "        elif action == 'W':\n",
    "            x -= amount\n",
    "        elif action == 'L':\n",
    "            heading = (heading + amount) % 360\n",
    "        elif action == 'R':\n",
    "            heading = (heading - amount) % 360\n",
    "        elif action == 'F':\n",
    "            x, y = move_along_angle(x, y, amount, heading)\n",
    "    return x, y"
   ]
  },
  {
   "cell_type": "code",
   "execution_count": 7,
   "metadata": {},
   "outputs": [
    {
     "output_type": "stream",
     "name": "stdout",
     "text": [
      "Finding tests in NoName\nTrying:\n    move_along_angle(0, 0, 10, 90)\nExpecting:\n    (0, 10)\nok\nTrying:\n    move_along_angle(4, 1 + 3 * math.sqrt(3), 6, 240)\nExpecting:\n    (1, 1)\nok\nFinding tests in NoName\nTrying:\n    move('''\n        F10\n        N3\n        F7\n        R90\n        F11\n    ''')\nExpecting:\n    (17, -8)\nok\n"
     ]
    }
   ],
   "source": [
    "doctest.run_docstring_examples(move_along_angle, globs=None, verbose=True)\n",
    "doctest.run_docstring_examples(move, globs=None, verbose=True)"
   ]
  },
  {
   "cell_type": "code",
   "execution_count": 8,
   "metadata": {},
   "outputs": [],
   "source": [
    "def rotate(x, y, angle):\n",
    "    \"\"\"\n",
    "    >>> rotate(10, 4, -90)\n",
    "    (4, -10)\n",
    "    \"\"\"\n",
    "    angle = math.radians(angle)\n",
    "    xp = x * math.cos(angle) - y * math.sin(angle)\n",
    "    yp = x * math.sin(angle) + y * math.cos(angle)\n",
    "    return int(round(xp)), int(round(yp))\n",
    "\n",
    "def move_waypoint(actions, start_pos=(10, 1)):\n",
    "    \"\"\"\n",
    "    >>> move_waypoint('''\n",
    "    ...     F10\n",
    "    ...     N3\n",
    "    ...     F7\n",
    "    ...     R90\n",
    "    ...     F11\n",
    "    ... ''')\n",
    "    (214, -72)\n",
    "    \"\"\"\n",
    "    sx, sy = 0, 0\n",
    "    wx, wy = start_pos\n",
    "    heading = 0  # degrees\n",
    "    for action, amount in parse_actions(actions):\n",
    "        if action == 'N':\n",
    "            wy += amount\n",
    "        elif action == 'S':\n",
    "            wy -= amount\n",
    "        elif action == 'E':\n",
    "            wx += amount\n",
    "        elif action == 'W':\n",
    "            wx -= amount\n",
    "        elif action == 'L':\n",
    "            wx, wy = rotate(wx, wy, amount)\n",
    "            heading = (heading + amount) % 360\n",
    "        elif action == 'R':\n",
    "            wx, wy = rotate(wx, wy, -amount)\n",
    "            heading = (heading - amount) % 360\n",
    "        elif action == 'F':\n",
    "            sx += wx * amount\n",
    "            sy += wy * amount\n",
    "    return sx, sy"
   ]
  },
  {
   "cell_type": "code",
   "execution_count": 9,
   "metadata": {},
   "outputs": [
    {
     "output_type": "stream",
     "name": "stdout",
     "text": [
      "Finding tests in NoName\nTrying:\n    rotate(10, 4, -90)\nExpecting:\n    (4, -10)\nok\nFinding tests in NoName\nTrying:\n    move_waypoint('''\n        F10\n        N3\n        F7\n        R90\n        F11\n    ''')\nExpecting:\n    (214, -72)\nok\n"
     ]
    }
   ],
   "source": [
    "doctest.run_docstring_examples(rotate, globs=None, verbose=True)\n",
    "doctest.run_docstring_examples(move_waypoint, globs=None, verbose=True)"
   ]
  },
  {
   "cell_type": "code",
   "execution_count": 10,
   "metadata": {},
   "outputs": [
    {
     "output_type": "stream",
     "name": "stdout",
     "text": [
      "Part 1:  1106\nPart 2:  107281\n"
     ]
    }
   ],
   "source": [
    "# Final answers\n",
    "with open('day12.txt') as f:\n",
    "    actions = f.read()\n",
    "    print('Part 1: ', sum(abs(c) for c in move(actions)))\n",
    "    print('Part 2: ', sum(abs(c) for c in move_waypoint(actions)))"
   ]
  },
  {
   "source": [
    "# Day 13: Shuttle Search"
   ],
   "cell_type": "markdown",
   "metadata": {}
  },
  {
   "cell_type": "code",
   "execution_count": 188,
   "metadata": {},
   "outputs": [],
   "source": [
    "def parse_schedule(text):\n",
    "    \"\"\"\n",
    "    >>> parse_schedule('123\\\\nx,x,1,2,100,x')\n",
    "    (123, ['x', 'x', 1, 2, 100, 'x'])\n",
    "    \"\"\"\n",
    "    departure_ts, bus_ids = text.strip().split()\n",
    "    departure_ts = int(departure_ts)\n",
    "    bus_ids = [bus_id if is_wildcard(bus_id) else int(bus_id) for bus_id in bus_ids.split(',')]\n",
    "    return departure_ts, bus_ids\n",
    "\n",
    "def is_wildcard(bus_id):\n",
    "    return bus_id == 'x'\n",
    "\n",
    "def best_bus(ts, bus_ids):\n",
    "    \"\"\"\n",
    "    >>> best_bus(939, [7, 13, 59, 'x', 31, 19])\n",
    "    (59, 5)\n",
    "    >>> best_bus(939, [7, 13, 59, 31, 19, 939])\n",
    "    (939, 0)\n",
    "    \"\"\"\n",
    "    bus_ids = [bus_id for bus_id in bus_ids if not is_wildcard(bus_id)]\n",
    "    wait_time = lambda bus_id: (bus_id - (ts % bus_id)) % ts\n",
    "    bus_id = min(bus_ids, key=wait_time)\n",
    "    return bus_id, wait_time(bus_id)"
   ]
  },
  {
   "cell_type": "code",
   "execution_count": 183,
   "metadata": {},
   "outputs": [
    {
     "output_type": "stream",
     "name": "stdout",
     "text": [
      "Finding tests in NoName\nTrying:\n    parse_schedule('123\\nx,x,1,2,100,x')\nExpecting:\n    (123, ['x', 'x', 1, 2, 100, 'x'])\nok\nFinding tests in NoName\nTrying:\n    best_bus(939, [7, 13, 59, 'x', 31, 19])\nExpecting:\n    (59, 5)\nok\nTrying:\n    best_bus(939, [7, 13, 59, 31, 19, 939])\nExpecting:\n    (939, 0)\nok\n"
     ]
    }
   ],
   "source": [
    "doctest.run_docstring_examples(parse_schedule, globs=None, verbose=True)\n",
    "doctest.run_docstring_examples(best_bus, globs=None, verbose=True)"
   ]
  },
  {
   "cell_type": "code",
   "execution_count": 184,
   "metadata": {},
   "outputs": [],
   "source": [
    "# Abandoned: too slow!\n",
    "def divides(m, n):\n",
    "    return n % m == 0\n",
    "\n",
    "def make_factors(bus_ids):\n",
    "    return {bus_id: i \n",
    "            for i, bus_id in enumerate(bus_ids) if not is_wildcard(bus_id)}\n",
    "\n",
    "def is_solution(ts, factors, base_delta=0):\n",
    "    return all(divides(f, ts + delta - base_delta) for f, delta in factors.items())\n",
    "\n",
    "def earliest_timestamp(bus_ids, start=None):\n",
    "    \"\"\"\n",
    "    >>> earliest_timestamp([7, 13, 'x', 'x', 59, 'x', 31, 19])\n",
    "    1068781\n",
    "    \"\"\"\n",
    "    factors = make_factors(bus_ids)\n",
    "    max_ts = max(factors.keys())\n",
    "    base_delta = factors[max_ts]\n",
    "    guess = ((start // max_ts) + 1) * max_ts if start else max_ts\n",
    "    while True:\n",
    "        if is_solution(guess, factors, base_delta):\n",
    "            return guess - base_delta\n",
    "        guess += max_ts"
   ]
  },
  {
   "cell_type": "code",
   "execution_count": 185,
   "metadata": {},
   "outputs": [
    {
     "output_type": "stream",
     "name": "stdout",
     "text": [
      "Finding tests in NoName\nTrying:\n    earliest_timestamp([7, 13, 'x', 'x', 59, 'x', 31, 19])\nExpecting:\n    1068781\nok\n"
     ]
    }
   ],
   "source": [
    "doctest.run_docstring_examples(earliest_timestamp, globs=None, verbose=True)"
   ]
  },
  {
   "cell_type": "code",
   "execution_count": 235,
   "metadata": {},
   "outputs": [],
   "source": [
    "@dataclass\n",
    "class Solution:\n",
    "    phase: int\n",
    "    period: int\n",
    "\n",
    "    @staticmethod\n",
    "    def create(n, delta):\n",
    "        return Solution((n - delta) % n, n)\n",
    "\n",
    "def sync(s1, s2):\n",
    "    \"\"\"\n",
    "    >>> sync(Solution.create(17, 0), Solution.create(1, 0))\n",
    "    Solution(phase=0, period=17)\n",
    "    >>> sync(sync(Solution.create(7, 0), Solution.create(13, 1)), Solution.create(59, 4)).phase\n",
    "    350\n",
    "    \"\"\"\n",
    "    # Only works if periods are prime numbers, I guess...\n",
    "    hi = s1.period * s2.period\n",
    "    for i in itertools.chain(range(s1.phase, hi, s1.period), range(s2.phase, hi, s2.period)):\n",
    "        if (i % s1.period) == s1.phase and (i % s2.period) == s2.phase:\n",
    "            return Solution(i, s1.period * s2.period)\n",
    "\n",
    "def sync_all(bus_ids):\n",
    "    \"\"\"\n",
    "    >>> sync_all([7, 13, 'x', 'x', 59, 'x', 31, 19])\n",
    "    Solution(phase=1068781, period=3162341)\n",
    "    \"\"\"\n",
    "    partials = [Solution.create(bus_id, i)\n",
    "                for i, bus_id in enumerate(bus_ids) if not is_wildcard(bus_id)]\n",
    "    return functools.reduce(sync, partials, Solution.create(1, 0))\n"
   ]
  },
  {
   "cell_type": "code",
   "execution_count": 236,
   "metadata": {},
   "outputs": [
    {
     "output_type": "stream",
     "name": "stdout",
     "text": [
      "Finding tests in NoName\nTrying:\n    sync(Solution.create(17, 0), Solution.create(1, 0))\nExpecting:\n    Solution(phase=0, period=17)\nok\nTrying:\n    sync(sync(Solution.create(7, 0), Solution.create(13, 1)), Solution.create(59, 4)).phase\nExpecting:\n    350\nok\nFinding tests in NoName\nTrying:\n    sync_all([7, 13, 'x', 'x', 59, 'x', 31, 19])\nExpecting:\n    Solution(phase=1068781, period=3162341)\nok\n"
     ]
    }
   ],
   "source": [
    "doctest.run_docstring_examples(sync, globs=None, verbose=True)\n",
    "doctest.run_docstring_examples(sync_all, globs=None, verbose=True)"
   ]
  },
  {
   "cell_type": "code",
   "execution_count": 237,
   "metadata": {},
   "outputs": [
    {
     "output_type": "stream",
     "name": "stdout",
     "text": [
      "Part 1:  370\nPart 2:  894954360381385\nWall time: 2 ms\n"
     ]
    }
   ],
   "source": [
    "%%time\n",
    "# Final answers\n",
    "with open('day13.txt') as f:\n",
    "    ts, bus_ids = parse_schedule(f.read())\n",
    "    bus_id, wait_time = best_bus(ts, bus_ids)\n",
    "    print('Part 1: ', bus_id * wait_time)\n",
    "    print('Part 2: ', sync_all(bus_ids).phase)"
   ]
  },
  {
   "cell_type": "code",
   "execution_count": null,
   "metadata": {},
   "outputs": [],
   "source": []
  }
 ]
}